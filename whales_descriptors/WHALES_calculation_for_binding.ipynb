{
 "cells": [
  {
   "cell_type": "code",
   "execution_count": 2,
   "metadata": {},
   "outputs": [],
   "source": [
    "from whales_descriptors import do_whales\n",
    "from rdkit import Chem\n",
    "import numpy as np\n",
    "from whales_descriptors import mol_properties\n",
    "from rdkit.Chem import AllChem\n",
    "from lcm import domahal, is_rem, docov, lmahal\n",
    "from do_whales import apply_sign\n",
    "from do_whales import extract_lcm\n",
    "import pandas as pd"
   ]
  },
  {
   "cell_type": "code",
   "execution_count": null,
   "metadata": {},
   "outputs": [],
   "source": [
    "suppl = Chem.SDMolSupplier('./Data_and_Output/Task30.sdf')\n",
    "x, labels = do_whales.main(suppl, charge_threshold=0, do_charge=True, property_name='')"
   ]
  },
  {
   "cell_type": "code",
   "execution_count": null,
   "metadata": {},
   "outputs": [],
   "source": [
    "np.savetxt('./Data_and_Output/Task30_whales_results.txt', x, delimiter=' ', newline='\\n') # for descriptors"
   ]
  },
  {
   "cell_type": "code",
   "execution_count": null,
   "metadata": {},
   "outputs": [],
   "source": [
    "#Calcolo whales per recettore nucleare -> covariance matrix su tutti e \n",
    "#poi seleziono solo righe e colonne corrispondenti agli atomi della tasca"
   ]
  },
  {
   "cell_type": "markdown",
   "metadata": {},
   "source": [
    "# Prova con singola molecola da SMILES"
   ]
  },
  {
   "cell_type": "code",
   "execution_count": null,
   "metadata": {},
   "outputs": [],
   "source": [
    "#DA SMILES SERVE OTTIMIZZARE LA STRUTTURA PER AVERE COORDINATE 3D\n",
    "mol = Chem.MolFromSmiles('C1CCC1OC')\n",
    "m3 = Chem.AddHs(mol)\n",
    "#AllChem.EmbedMolecule(m3)\n",
    "mols = AllChem.EmbedMultipleConfs(m3, 100)\n",
    "#res = AllChem.MMFFOptimizeMoleculeConfs(m3, maxIters=1000, mmffVariant='MMFF94', )  \n",
    "res = Chem.rdForceFieldHelpers.MMFFOptimizeMoleculeConfs(m3, maxIters=15000, mmffVariant='MMFF94')  \n",
    "m3 = Chem.RemoveHs(m3)\n",
    "print(Chem.MolToMolBlock(m3, confId= res.index(min(res))))  \n",
    "mol, err = do_whales.import_mol(m3)"
   ]
  },
  {
   "cell_type": "code",
   "execution_count": null,
   "metadata": {},
   "outputs": [],
   "source": [
    "#OPT STABILE\n",
    "#DA SMILES SERVE OTTIMIZZARE LA STRUTTURA PER AVERE COORDINATE 3D\n",
    "mol = Chem.MolFromSmiles('C1CCC1OC')\n",
    "m3 = Chem.AddHs(mol)\n",
    "#AllChem.EmbedMolecule(m3)\n",
    "mols = AllChem.EmbedMolecule(m3, randomSeed=26, clearConfs=True, maxAttempts=5)\n",
    "#mols = AllChem.EmbedMultipleConfs(mols, 100)\n",
    "#res = AllChem.MMFFOptimizeMoleculeConfs(m3, maxIters=1000, mmffVariant='MMFF94', )  \n",
    "res = Chem.rdForceFieldHelpers.MMFFOptimizeMolecule(m3, maxIters=15000, mmffVariant='MMFF94')  \n",
    "m3 = Chem.RemoveHs(m3)\n",
    "print(Chem.MolToMolBlock(m3))\n",
    "mol, err = do_whales.import_mol(m3)"
   ]
  },
  {
   "cell_type": "code",
   "execution_count": null,
   "metadata": {},
   "outputs": [],
   "source": [
    "coords, w, err = mol_properties.get_coordinates_and_prop(mol, '', True)\n",
    "coords"
   ]
  },
  {
   "cell_type": "code",
   "execution_count": null,
   "metadata": {},
   "outputs": [],
   "source": [
    "cov = docov(coords, w)"
   ]
  },
  {
   "cell_type": "code",
   "execution_count": null,
   "metadata": {},
   "outputs": [],
   "source": [
    "n, p = coords.shape"
   ]
  },
  {
   "cell_type": "code",
   "execution_count": null,
   "metadata": {},
   "outputs": [],
   "source": [
    "n,p"
   ]
  },
  {
   "cell_type": "code",
   "execution_count": null,
   "metadata": {},
   "outputs": [],
   "source": [
    "dist = np.zeros((n, n))\n",
    "for i in range(n):\n",
    "    for j in range(n):\n",
    "        d = domahal(i, j, coords, cov)\n",
    "        dist[i, j] = d / p\n",
    "dist"
   ]
  },
  {
   "cell_type": "code",
   "execution_count": null,
   "metadata": {},
   "outputs": [],
   "source": [
    "def import_prepare_mol(mol, do_geom):\n",
    "\n",
    "    # options for sanitization\n",
    "    san_opt = Chem.SanitizeFlags.SANITIZE_ALL ^ Chem.SanitizeFlags.SANITIZE_KEKULIZE\n",
    "    # initialization\n",
    "    err = 0\n",
    "\n",
    "    # sanitization\n",
    "    if mol is None:\n",
    "        err = 1\n",
    "    else:\n",
    "        # sanitize\n",
    "        sanit_fail = Chem.SanitizeMol(mol, catchErrors=True, sanitizeOps=san_opt)\n",
    "        if sanit_fail:\n",
    "            raise ValueError(sanit_fail)\n",
    "            err = 1\n",
    "\n",
    "        if do_geom is True:\n",
    "            mol, err = opt_geometry(mol)\n",
    "    return mol, err\n",
    "\n",
    "\n",
    "def opt_geometry(mol, max_iter=1000, mmffvariant='MMFF94', seed=26, max_attempts=5): # TODO add in the description - geometry optimization\n",
    "\n",
    "    # 'mmffVariant : “MMFF94” or “MMFF94s”'\n",
    "    # seeded coordinate generation, if = -1, no random seed provided\n",
    "    # removes starting coordinates to ensure reproducibility\n",
    "    # max attempts, to increase if issues are encountered\n",
    "\n",
    "    err = 0\n",
    "    try:\n",
    "        mol = rdmolops.AddHs(mol)\n",
    "        AllChem.EmbedMolecule(mol, randomSeed=seed, clearConfs=True, maxAttempts=max_attempts)\n",
    "        geom = AllChem.MMFFOptimizeMolecule(mol, maxIters=max_iter, mmffVariant=mmffvariant)\n",
    "        if geom < 0:\n",
    "               err = 1\n",
    "    except:\n",
    "        err = 1\n",
    "\n",
    "    return mol, err"
   ]
  },
  {
   "cell_type": "code",
   "execution_count": null,
   "metadata": {},
   "outputs": [],
   "source": [
    "mol, err = import_prepare_mol(mol, do_geom=False)"
   ]
  },
  {
   "cell_type": "code",
   "execution_count": null,
   "metadata": {},
   "outputs": [],
   "source": [
    "err"
   ]
  },
  {
   "cell_type": "markdown",
   "metadata": {},
   "source": [
    "# Prova con un PDB"
   ]
  },
  {
   "cell_type": "code",
   "execution_count": 16,
   "metadata": {},
   "outputs": [],
   "source": [
    "def extract_idx_bp(path1, path2):\n",
    "    #import pdb as mol and resave pdb (otherwise indices will not coincide)\n",
    "    pdb = Chem.rdmolfiles.MolFromPDBFile(path1)\n",
    "    pdb2 = Chem.rdmolfiles.MolToPDBFile(pdb, \"./Data_and_Output/temp_pdb.pdb\")    \n",
    "    pdb_full_df = pd.read_csv(\"./Data_and_Output/temp_pdb.pdb\", delim_whitespace=True, \n",
    "                                names=('elix','elix_num', 'res_name', 'res', 'chain',\n",
    "                                       'res_seq_num','x','y','z','boh','pup','atom'))\n",
    "\n",
    "    pdb_bp_df = pd.read_csv(path2, delim_whitespace=True, \n",
    "                                names=('elix','elix_num', 'res_name', 'res', 'chain',\n",
    "                                       'res_seq_num','x','y','z','boh','pup','atom'))\n",
    "    #REMOVE LAST ROW = END\n",
    "    indexNames = [pdb_full_df[pdb_full_df['elix'] == \"TER\"].index,\n",
    "                  pdb_full_df[pdb_full_df['elix'] == \"CONECT\"].index,\n",
    "                  pdb_full_df[pdb_full_df['elix'] == \"END\"].index]\n",
    "    indexNames = [item for sublist in indexNames for item in sublist]\n",
    "    pdb_full_df.drop(indexNames , inplace=True)  \n",
    "    lfull = len(pdb_full_df)\n",
    "    pdb_bp_df = pdb_bp_df[:-1]\n",
    "    #select ids of binding pockets (only chain A)\n",
    "    pdb_full_red = pdb_full_df[pdb_full_df['res_seq_num'].isin(pdb_bp_df['res_seq_num']).values]\n",
    "    pdb_full_red = pdb_full_red[pdb_full_red['chain']==pdb_bp_df['chain'].values[0]]\n",
    "    idx_bp=pdb_full_red.index\n",
    "    return idx_bp, lfull "
   ]
  },
  {
   "cell_type": "code",
   "execution_count": 106,
   "metadata": {},
   "outputs": [],
   "source": [
    "def lweucl(x, w):\n",
    "    # preliminary\n",
    "    n, p = x.shape  # matrix dimensions\n",
    "\n",
    "    if len(w) > 0:   # checks whether at least one atom was included\n",
    "        dist = np.zeros((n, n))  # pre allocation (LCM)\n",
    "\n",
    "        # do covariance centred on each sample\n",
    "        #cov = docov(x, w)\n",
    "        # normalizes partial charges\n",
    "        den = sum(abs(w))\n",
    "        if den is 0:\n",
    "            den = n-1\n",
    "        w_abs = abs(w)/den\n",
    "    \n",
    "        # calculate distance\n",
    "        for i in range(n):\n",
    "            for j in range(n):\n",
    "                d = doweucl(i, j, x, w_abs)\n",
    "                dist[i, j] = d\n",
    "\n",
    "        # isolation and remoteness parameters from D\n",
    "        isol, rem, ir_ratio = is_rem(dist, n)   # calculates atomic parameters from the distance\n",
    "        res = np.concatenate((rem, isol, ir_ratio), axis=1)   # results concatenation\n",
    "    else:\n",
    "        res = np.full((1, 3), -999.0)   # sets missing values\n",
    "\n",
    "    return res"
   ]
  },
  {
   "cell_type": "code",
   "execution_count": 107,
   "metadata": {},
   "outputs": [],
   "source": [
    "def doweucl(i, j, x, w_abs):\n",
    "    d = np.sqrt(np.sum(w_abs[i]*np.power(np.subtract(x[i],x[j]),2)))\n",
    "    return d"
   ]
  },
  {
   "cell_type": "code",
   "execution_count": 113,
   "metadata": {},
   "outputs": [],
   "source": [
    "def do_whales_for_pdb(pdb_full, idx_bp, nstep):#CHANGE NSTEP FOR CENTILES (1) INSTEAD OF DECILES (10)\n",
    "    \n",
    "    pdbm3 = Chem.RemoveHs(pdb_full)\n",
    "    mol, err = do_whales.import_mol(pdbm3)\n",
    "    errors = 0\n",
    "    \n",
    "    if nstep == 10:\n",
    "        lenp = 33\n",
    "    else:\n",
    "        lenp = 303\n",
    "\n",
    "    if err == 1:\n",
    "        x_all = np.full((lenp,), -999.0)\n",
    "        errors += err\n",
    "        print ('Molecule not loaded.')\n",
    "    else:\n",
    "        coords, w, err = mol_properties.get_coordinates_and_prop(mol, '_GasteigerCharge', True)\n",
    "        if err == 0:\n",
    "            coords_red = coords[idx_bp,:]\n",
    "            w_red = w[idx_bp,:]\n",
    "            #####x_all, lab_all = do_lcd(coords_red, w_red)\n",
    "            #res = lmahal(coords_red, w_red) #with mahalanobis\n",
    "            res = lweucl(coords_red, w_red)   #with weighted euclidean\n",
    "            res = apply_sign(w_red, res, 0)\n",
    "            x_all, lab_all = extract_lcm(res, step = nstep)\n",
    "            ######\n",
    "        else:\n",
    "            x_all = np.full((lenp,), -999.0)  \n",
    "            errors += 1\n",
    "            print ('Molecule no computed charges.')    \n",
    "    descriptors = pd.DataFrame()\n",
    "    descriptors[str(1)] = x_all\n",
    "    descriptors = pd.DataFrame.transpose(descriptors)\n",
    "    descriptors.columns = lab_all\n",
    "    \n",
    "    if errors > 0:\n",
    "        print(str(errors) + 'molecules not loaded/calculated')\n",
    "    \n",
    "    return descriptors, lab_all, x_all"
   ]
  },
  {
   "cell_type": "code",
   "execution_count": 114,
   "metadata": {},
   "outputs": [
    {
     "data": {
      "text/plain": [
       "Int64Index([  94,   95,   96,   97,   98,   99,  100,  101,  102,  103,\n",
       "            ...\n",
       "            1911, 1912, 1913, 1914, 1915, 1916, 1917, 1918, 1919, 1920],\n",
       "           dtype='int64', length=823)"
      ]
     },
     "execution_count": 114,
     "metadata": {},
     "output_type": "execute_result"
    }
   ],
   "source": [
    "idx_bp, lfull = extract_idx_bp(\"./Data_and_Output/PDBs_FULL_CLEAN/AR_1e3g_A.pdb\", \"./Data_and_Output/BS_PDBs_PBONLY/AR_1e3g_A.pdb\")\n",
    "idx_bp"
   ]
  },
  {
   "cell_type": "code",
   "execution_count": 110,
   "metadata": {},
   "outputs": [],
   "source": [
    "pdb = Chem.rdmolfiles.MolFromPDBFile(\"./Data_and_Output/PDBs_FULL_CLEAN/AR_1e3g_A.pdb\")\n",
    "descriptors, lab_all, x_all = do_whales_for_pdb(pdb, idx_bp, 10)"
   ]
  },
  {
   "cell_type": "code",
   "execution_count": 112,
   "metadata": {},
   "outputs": [
    {
     "data": {
      "text/html": [
       "<div>\n",
       "<style scoped>\n",
       "    .dataframe tbody tr th:only-of-type {\n",
       "        vertical-align: middle;\n",
       "    }\n",
       "\n",
       "    .dataframe tbody tr th {\n",
       "        vertical-align: top;\n",
       "    }\n",
       "\n",
       "    .dataframe thead th {\n",
       "        text-align: right;\n",
       "    }\n",
       "</style>\n",
       "<table border=\"1\" class=\"dataframe\">\n",
       "  <thead>\n",
       "    <tr style=\"text-align: right;\">\n",
       "      <th></th>\n",
       "      <th>R_0</th>\n",
       "      <th>R_1</th>\n",
       "      <th>R_2</th>\n",
       "      <th>R_3</th>\n",
       "      <th>R_4</th>\n",
       "      <th>R_5</th>\n",
       "      <th>R_6</th>\n",
       "      <th>R_7</th>\n",
       "      <th>R_8</th>\n",
       "      <th>R_9</th>\n",
       "      <th>...</th>\n",
       "      <th>IR_1</th>\n",
       "      <th>IR_2</th>\n",
       "      <th>IR_3</th>\n",
       "      <th>IR_4</th>\n",
       "      <th>IR_5</th>\n",
       "      <th>IR_6</th>\n",
       "      <th>IR_7</th>\n",
       "      <th>IR_8</th>\n",
       "      <th>IR_9</th>\n",
       "      <th>IR_10</th>\n",
       "    </tr>\n",
       "  </thead>\n",
       "  <tbody>\n",
       "    <tr>\n",
       "      <th>1</th>\n",
       "      <td>-1.424</td>\n",
       "      <td>-0.866</td>\n",
       "      <td>-0.768</td>\n",
       "      <td>-0.679</td>\n",
       "      <td>-0.365</td>\n",
       "      <td>-0.271</td>\n",
       "      <td>-0.157</td>\n",
       "      <td>0.37</td>\n",
       "      <td>0.484</td>\n",
       "      <td>0.659</td>\n",
       "      <td>...</td>\n",
       "      <td>-0.069</td>\n",
       "      <td>-0.046</td>\n",
       "      <td>-0.035</td>\n",
       "      <td>-0.027</td>\n",
       "      <td>-0.021</td>\n",
       "      <td>-0.014</td>\n",
       "      <td>0.025</td>\n",
       "      <td>0.035</td>\n",
       "      <td>0.047</td>\n",
       "      <td>0.473</td>\n",
       "    </tr>\n",
       "  </tbody>\n",
       "</table>\n",
       "<p>1 rows × 33 columns</p>\n",
       "</div>"
      ],
      "text/plain": [
       "     R_0    R_1    R_2    R_3    R_4    R_5    R_6   R_7    R_8    R_9  ...  \\\n",
       "1 -1.424 -0.866 -0.768 -0.679 -0.365 -0.271 -0.157  0.37  0.484  0.659  ...   \n",
       "\n",
       "    IR_1   IR_2   IR_3   IR_4   IR_5   IR_6   IR_7   IR_8   IR_9  IR_10  \n",
       "1 -0.069 -0.046 -0.035 -0.027 -0.021 -0.014  0.025  0.035  0.047  0.473  \n",
       "\n",
       "[1 rows x 33 columns]"
      ]
     },
     "execution_count": 112,
     "metadata": {},
     "output_type": "execute_result"
    }
   ],
   "source": [
    "descriptors"
   ]
  },
  {
   "cell_type": "markdown",
   "metadata": {},
   "source": [
    "# BATCH MODE"
   ]
  },
  {
   "cell_type": "code",
   "execution_count": 115,
   "metadata": {},
   "outputs": [
    {
     "data": {
      "text/plain": [
       "(50, 73, 54, 48, 66, 22, 8, 11, 332)"
      ]
     },
     "execution_count": 115,
     "metadata": {},
     "output_type": "execute_result"
    }
   ],
   "source": [
    "listPDB = ['AR_1e3g_A.pdb','AR_1z95_A.pdb','AR_2am9_A.pdb','AR_2ama_A.pdb','AR_2ax6_A.pdb','AR_2ax9_A.pdb','AR_2hvc_A.pdb','AR_2ihq_A.pdb','AR_2nw4_A.pdb','AR_2oz7_A.pdb','AR_3b5r_A.pdb','AR_3b65_A.pdb','AR_3b66_A.pdb','AR_3b67_A.pdb','AR_3b68_A.pdb','AR_3g0w_A.pdb','AR_3v49_A.pdb','AR_4ql8_A.pdb','AR_5cj6_A.pdb','AR_5t8e_A.pdb','AR_5t8j_A.pdb','AR_5v8q_A.pdb','ER_1err_A.pdb','ER_1err_B.pdb','ER_1g50_A.pdb','ER_1g50_B.pdb','ER_1g50_C.pdb','ER_1sj0_A.pdb','ER_1uom_A.pdb','ER_1xp1_A.pdb','ER_1xp6_A.pdb','ER_1xp9_A.pdb','ER_1xpc_A.pdb','ER_1xqc_A.pdb','ER_1xqc_B.pdb','ER_1xqc_C.pdb','ER_1xqc_D.pdb','ER_1zky_A.pdb','ER_1zky_B.pdb','ER_2ayr_A.pdb','ER_2b1v_A.pdb','ER_2b1v_B.pdb','ER_2b1z_A.pdb','ER_2b1z_B.pdb','ER_2fai_A.pdb','ER_2fai_B.pdb','ER_2p15_A.pdb','ER_2p15_B.pdb','ER_2pog_A.pdb','ER_2pog_B.pdb','ER_2q70_A.pdb','ER_2q70_B.pdb','ER_2qa8_A.pdb','ER_2qa8_B.pdb','ER_2qe4_A.pdb','ER_2qe4_B.pdb','ER_2qh6_A.pdb','ER_2qh6_B.pdb','ER_2r6w_A.pdb','ER_2r6w_B.pdb','ER_2r6y_A.pdb','ER_2r6y_B.pdb','ER_4mg5_A.pdb','ER_4mg5_B.pdb','ER_4mg6_A.pdb','ER_4mg6_B.pdb','ER_4mg7_A.pdb','ER_4mg7_B.pdb','ER_4mg8_A.pdb','ER_4mg8_B.pdb','ER_4mg9_A.pdb','ER_4mg9_B.pdb','ER_4mga_A.pdb','ER_4mga_B.pdb','ER_4mgb_A.pdb','ER_4mgb_B.pdb','ER_4mgc_A.pdb','ER_4mgc_B.pdb','ER_4mgd_A.pdb','ER_4mgd_B.pdb','ER_5ak2_A.pdb','ER_5ak2_B.pdb','ER_5fqr_A.pdb','ER_5fqs_A.pdb','ER_5t92_A.pdb','ER_5t92_B.pdb','ER_5t97_A.pdb','ER_5t97_B.pdb','ERA_1x7e_A.pdb','ERA_1x7e_B.pdb','ERA_1x7r_A.pdb','ERA_2i0j_A.pdb','ERA_2i0j_B.pdb','ERA_2i0j_C.pdb','ERA_2i0j_D.pdb','ERA_3erd_A.pdb','ERA_3erd_B.pdb','ERA_3ert_A.pdb','ERA_5fqp_A.pdb','ERA_5fqt_A.pdb','ERA_5fqv_A.pdb','ERB_1nde_A.pdb','ERB_1qkn_A.pdb','ERB_1u3q_A.pdb','ERB_1u3q_B.pdb','ERB_1u3q_C.pdb','ERB_1u3q_D.pdb','ERB_1u3r_A.pdb','ERB_1u3r_B.pdb','ERB_1u3s_A.pdb','ERB_1u3s_B.pdb','ERB_1u9e_A.pdb','ERB_1u9e_B.pdb','ERB_1x7b_A.pdb','ERB_1x7b_B.pdb','ERB_1x76_A.pdb','ERB_1x76_B.pdb','ERB_1x78_A.pdb','ERB_1x78_B.pdb','ERB_1yy4_A.pdb','ERB_1yy4_B.pdb','ERB_1yye_A.pdb','ERB_1yye_B.pdb','ERB_1zaf_B.pdb','ERB_2giu_A.pdb','ERB_2i0g_A.pdb','ERB_2i0g_B.pdb','ERB_2j7x_A.pdb','ERB_2jj3_A.pdb','ERB_2jj3_B.pdb','ERB_2nv7_A.pdb','ERB_2nv7_B.pdb','ERB_2qtu_A.pdb','ERB_2qtu_B.pdb','ERB_2z4b_A.pdb','ERB_2z4b_B.pdb','FXR_3dct_A.pdb','FXR_3okh_A.pdb','FXR_3oki_A.pdb','FXR_3oki_C.pdb','FXR_3olf_A.pdb','FXR_3olf_C.pdb','FXR_3omm_A.pdb','FXR_3omm_C.pdb','FXR_3oof_A.pdb','FXR_3oof_C.pdb','FXR_3ook_A.pdb','FXR_3ook_C.pdb','FXR_4oiv_A.pdb','FXR_4oiv_B.pdb','FXR_5q0i_A.pdb','FXR_5q0j_A.pdb','FXR_5q0j_C.pdb','FXR_5q0l_A.pdb','FXR_5q0l_C.pdb','FXR_5q0m_A.pdb','FXR_5q0n_A.pdb','FXR_5q0n_C.pdb','FXR_5q0o_A.pdb','FXR_5q0o_C.pdb','FXR_5q0p_A.pdb','FXR_5q0p_C.pdb','FXR_5q0q_A.pdb','FXR_5q0q_C.pdb','FXR_5q0r_A.pdb','FXR_5q0s_A.pdb','FXR_5q0s_C.pdb','FXR_5q0t_A.pdb','FXR_5q0u_A.pdb','FXR_5q0u_C.pdb','FXR_5q0v_A.pdb','FXR_5q0v_C.pdb','FXR_5q0w_A.pdb','FXR_5q0x_A.pdb','FXR_5q0y_A.pdb','FXR_5q0y_C.pdb','FXR_5q1a_A.pdb','FXR_5q1b_A.pdb','FXR_5q1b_C.pdb','FXR_5q1c_A.pdb','FXR_5q1c_C.pdb','FXR_5q1d_A.pdb','FXR_5q1d_C.pdb','FXR_5q1f_A.pdb','FXR_5q1f_C.pdb','FXR_5q1g_A.pdb','FXR_5q1i_A.pdb','FXR_5q10_A.pdb','FXR_5q11_A.pdb','FXR_5q12_A.pdb','FXR_5q13_A.pdb','FXR_5q13_C.pdb','FXR_5q14_A.pdb','FXR_5q14_C.pdb','FXR_5q15_A.pdb','FXR_5q15_C.pdb','FXR_5q16_A.pdb','FXR_5q16_C.pdb','FXR_5q17_A.pdb','FXR_5q18_A.pdb','FXR_5q18_C.pdb','FXR_5q19_A.pdb','FXR_5q19_C.pdb','GR_1nhz_A.pdb','GR_1p93_A.pdb','GR_1p93_B.pdb','GR_1p93_C.pdb','GR_1p93_D.pdb','GR_3k22_A.pdb','GR_3k22_B.pdb','GR_3k23_A.pdb','GR_3k23_B.pdb','GR_3k23_C.pdb','GR_4csj_A.pdb','GR_4p6w_A.pdb','GR_4p6x_A.pdb','GR_4p6x_C.pdb','GR_4p6x_E.pdb','GR_4p6x_G.pdb','GR_4p6x_I.pdb','GR_4p6x_K.pdb','PPARA_1i7g_A.pdb','PPARA_1kkq_A.pdb','PPARA_1kkq_B.pdb','PPARA_1kkq_C.pdb','PPARA_3fei_A.pdb','PPARA_3g8i_A.pdb','PPARA_3kdt_A.pdb','PPARA_3kdt_B.pdb','PPARA_3kdu_A.pdb','PPARA_3kdu_B.pdb','PPARD_3dy6_A.pdb','PPARD_3dy6_B.pdb','PPARD_3gwx_A.pdb','PPARD_3gwx_B.pdb','PPARD_3gz9_A.pdb','PPARD_3peq_A.pdb','PPARD_3peq_B.pdb','PPARD_3tkm_A.pdb','PPARG_1fm9_D.pdb','PPARG_1i7i_A.pdb','PPARG_1i7i_B.pdb','PPARG_1nyx_A.pdb','PPARG_1zeo_A.pdb','PPARG_2ath_A.pdb','PPARG_2ath_B.pdb','PPARG_2f4b_A.pdb','PPARG_2g0g_A.pdb','PPARG_2g0h_A.pdb','PPARG_2g0h_B.pdb','PPARG_2gtk_A.pdb','PPARG_2hfp_A.pdb','PPARG_2i4j_A.pdb','PPARG_2i4z_A.pdb','PPARG_2p4y_A.pdb','PPARG_2p4y_B.pdb','PPARG_2q8s_A.pdb','PPARG_2yfe_A.pdb','PPARG_2yfe_B.pdb','PPARG_3b1m_A.pdb','PPARG_3fej_A.pdb','PPARG_3fur_A.pdb','PPARG_3g9e_A.pdb','PPARG_3ia6_A.pdb','PPARG_3ia6_B.pdb','PPARG_3lmp_A.pdb','PPARG_3osi_A.pdb','PPARG_3osw_A.pdb','PPARG_3r5n_A.pdb','PPARG_3r8i_A.pdb','PPARG_3sz1_B.pdb','PPARG_3t03_A.pdb','PPARG_3t03_B.pdb','PPARG_3ty0_A.pdb','PPARG_3ty0_B.pdb','PPARG_3u9q_A.pdb','PPARG_4a4v_A.pdb','PPARG_4a4v_B.pdb','PPARG_4a4w_A.pdb','PPARG_4a4w_B.pdb','PPARG_4jaz_A.pdb','PPARG_4prg_A.pdb','PPARG_4prg_B.pdb','PPARG_4prg_C.pdb','PPARG_4prg_D.pdb','PPARG_4r06_A.pdb','PPARG_4xta_A.pdb','PPARG_4xta_B.pdb','PPARG_4xuh_A.pdb','PPARG_4xuh_B.pdb','PPARG_4xum_A.pdb','PPARG_4xum_B.pd','PPARG_4y29_A.pd','PPARG_5f9b_B.pd','PPARG_5lsg_A.pd','PPARG_5two_A.pd','PPARG_5u5l_A.pd','PR_1a28_A.pdb','PR_1a28_B.pdb','PR_1sqn_A.pdb','PR_1sqn_B.pdb','PR_1sr7_A.pdb','PR_1sr7_B.pdb','PR_1zuc_A.pdb','PR_1zuc_B.pdb','PR_2w8y_A.pdb','PR_3g8o_A.pdb','PR_3g8o_B.pdb','PR_3hq5_A.pdb','PR_3hq5_B.pdb','PR_3kba_A.pdb','PR_3kba_B.pdb','PR_4oar_A.pdb','PXR_1m13_A.pdb','PXR_2o9i_A.pdb','PXR_2o9i_B.pdb','RXR_3fal_B.pdb','RXR_3nsq_B.pdb','RXR_3ozj_A.pdb','RXR_3ozj_C.pdb','RXR_3pcu_A.pdb','RXR_3r5m_C.pdb','RXR_4k4j_A.pdb','RXR_4k6i_A.pdb','RXR_4m8e_A.pdb','RXR_4m8h_A.pdb','RXR_4poh_A.pdb','RXR_4poj_A.pdb','RXR_4pp3_A.pdb','RXR_4pp5_A.pdb','RXR_4zsh_A.pdb','RXR_5mkj_A.pdb']\n",
    "listPDB1 = ['AR_1e3g_A.pdb','AR_1z95_A.pdb','AR_2am9_A.pdb','AR_2ama_A.pdb','AR_2ax6_A.pdb','AR_2ax9_A.pdb','AR_2hvc_A.pdb','AR_2ihq_A.pdb','AR_2nw4_A.pdb','AR_2oz7_A.pdb','AR_3b5r_A.pdb','AR_3b65_A.pdb','AR_3b66_A.pdb','AR_3b67_A.pdb','AR_3b68_A.pdb','AR_3g0w_A.pdb','AR_3v49_A.pdb','AR_4ql8_A.pdb','AR_5cj6_A.pdb','AR_5t8e_A.pdb','AR_5t8j_A.pdb','AR_5v8q_A.pdb','ER_1err_A.pdb','ER_1err_B.pdb','ER_1g50_A.pdb','ER_1g50_B.pdb','ER_1g50_C.pdb','ER_1sj0_A.pdb','ER_1uom_A.pdb','ER_1xp1_A.pdb','ER_1xp6_A.pdb','ER_1xp9_A.pdb','ER_1xpc_A.pdb','ER_1xqc_A.pdb','ER_1xqc_B.pdb','ER_1xqc_C.pdb','ER_1xqc_D.pdb','ER_1zky_A.pdb','ER_1zky_B.pdb','ER_2ayr_A.pdb','ER_2b1v_A.pdb','ER_2b1v_B.pdb','ER_2b1z_A.pdb','ER_2b1z_B.pdb','ER_2fai_A.pdb','ER_2fai_B.pdb','ER_2p15_A.pdb','ER_2p15_B.pdb','ER_2pog_A.pdb','ER_2pog_B.pdb']\n",
    "listPDB2 = ['ER_2q70_A.pdb','ER_2q70_B.pdb','ER_2qa8_A.pdb','ER_2qa8_B.pdb','ER_2qe4_A.pdb','ER_2qe4_B.pdb','ER_2qh6_A.pdb','ER_2qh6_B.pdb','ER_2r6w_A.pdb','ER_2r6w_B.pdb','ER_2r6y_A.pdb','ER_2r6y_B.pdb','ER_4mg5_A.pdb','ER_4mg5_B.pdb','ER_4mg6_A.pdb','ER_4mg6_B.pdb','ER_4mg7_A.pdb','ER_4mg7_B.pdb','ER_4mg8_A.pdb','ER_4mg8_B.pdb','ER_4mg9_A.pdb','ER_4mg9_B.pdb','ER_4mga_A.pdb','ER_4mga_B.pdb','ER_4mgb_A.pdb','ER_4mgb_B.pdb','ER_4mgc_A.pdb','ER_4mgc_B.pdb','ER_4mgd_A.pdb','ER_4mgd_B.pdb','ER_5ak2_A.pdb','ER_5ak2_B.pdb','ER_5fqr_A.pdb','ER_5fqs_A.pdb','ER_5t92_A.pdb','ER_5t92_B.pdb','ER_5t97_A.pdb','ER_5t97_B.pdb','ERA_1x7e_A.pdb','ERA_1x7e_B.pdb','ERA_1x7r_A.pdb','ERA_2i0j_A.pdb','ERA_2i0j_B.pdb','ERA_2i0j_C.pdb','ERA_2i0j_D.pdb','ERA_3erd_A.pdb','ERA_3erd_B.pdb','ERA_3ert_A.pdb','ERA_5fqp_A.pdb','ERA_5fqt_A.pdb','ERA_5fqv_A.pdb','ERB_1nde_A.pdb','ERB_1qkn_A.pdb','ERB_1u3q_A.pdb','ERB_1u3q_B.pdb','ERB_1u3q_C.pdb','ERB_1u3q_D.pdb','ERB_1u3r_A.pdb','ERB_1u3r_B.pdb','ERB_1u3s_A.pdb','ERB_1u3s_B.pdb','ERB_1u9e_A.pdb','ERB_1u9e_B.pdb','ERB_1x7b_A.pdb','ERB_1x7b_B.pdb','ERB_1x76_A.pdb','ERB_1x76_B.pdb','ERB_1x78_A.pdb','ERB_1x78_B.pdb','ERB_1yy4_A.pdb','ERB_1yy4_B.pdb','ERB_1yye_A.pdb','ERB_1yye_B.pdb']\n",
    "listPDB3 = ['ERB_1zaf_B.pdb','ERB_2giu_A.pdb','ERB_2i0g_A.pdb','ERB_2i0g_B.pdb','ERB_2j7x_A.pdb','ERB_2jj3_A.pdb','ERB_2jj3_B.pdb','ERB_2nv7_A.pdb','ERB_2nv7_B.pdb','ERB_2qtu_A.pdb','ERB_2qtu_B.pdb','ERB_2z4b_A.pdb','ERB_2z4b_B.pdb','FXR_3dct_A.pdb','FXR_3okh_A.pdb','FXR_3oki_A.pdb','FXR_3oki_C.pdb','FXR_3olf_A.pdb','FXR_3olf_C.pdb','FXR_3omm_A.pdb','FXR_3omm_C.pdb','FXR_3oof_A.pdb','FXR_3oof_C.pdb','FXR_3ook_A.pdb','FXR_3ook_C.pdb','FXR_4oiv_A.pdb','FXR_4oiv_B.pdb','FXR_5q0i_A.pdb','FXR_5q0j_A.pdb','FXR_5q0j_C.pdb','FXR_5q0l_A.pdb','FXR_5q0l_C.pdb','FXR_5q0m_A.pdb','FXR_5q0n_A.pdb','FXR_5q0n_C.pdb','FXR_5q0o_A.pdb','FXR_5q0o_C.pdb','FXR_5q0p_A.pdb','FXR_5q0p_C.pdb','FXR_5q0q_A.pdb','FXR_5q0q_C.pdb','FXR_5q0r_A.pdb','FXR_5q0s_A.pdb','FXR_5q0s_C.pdb','FXR_5q0t_A.pdb','FXR_5q0u_A.pdb','FXR_5q0u_C.pdb','FXR_5q0v_A.pdb','FXR_5q0v_C.pdb','FXR_5q0w_A.pdb','FXR_5q0x_A.pdb','FXR_5q0y_A.pdb','FXR_5q0y_C.pdb','FXR_5q1a_A.pdb']\n",
    "listPDB4 = ['FXR_5q1b_A.pdb','FXR_5q1b_C.pdb','FXR_5q1c_A.pdb','FXR_5q1c_C.pdb','FXR_5q1d_A.pdb','FXR_5q1d_C.pdb','FXR_5q1f_A.pdb','FXR_5q1f_C.pdb','FXR_5q1g_A.pdb','FXR_5q1i_A.pdb','FXR_5q10_A.pdb','FXR_5q11_A.pdb','FXR_5q12_A.pdb','FXR_5q13_A.pdb','FXR_5q13_C.pdb','FXR_5q14_A.pdb','FXR_5q14_C.pdb','FXR_5q15_A.pdb','FXR_5q15_C.pdb','FXR_5q16_A.pdb','FXR_5q16_C.pdb','FXR_5q17_A.pdb','FXR_5q18_A.pdb','FXR_5q18_C.pdb','FXR_5q19_A.pdb','FXR_5q19_C.pdb','GR_1nhz_A.pdb','GR_1p93_A.pdb','GR_1p93_B.pdb','GR_1p93_C.pdb','GR_1p93_D.pdb','GR_3k22_A.pdb','GR_3k22_B.pdb','GR_3k23_A.pdb','GR_3k23_B.pdb','GR_3k23_C.pdb','GR_4csj_A.pdb','GR_4p6w_A.pdb','GR_4p6x_A.pdb','GR_4p6x_C.pdb','GR_4p6x_E.pdb','GR_4p6x_G.pdb','GR_4p6x_I.pdb','GR_4p6x_K.pdb','PPARA_1i7g_A.pdb','PPARA_1kkq_A.pdb','PPARA_1kkq_B.pdb','PPARA_1kkq_C.pdb']\n",
    "listPDB5 = ['PPARA_3fei_A.pdb','PPARA_3g8i_A.pdb','PPARA_3kdt_A.pdb','PPARA_3kdt_B.pdb','PPARA_3kdu_A.pdb','PPARA_3kdu_B.pdb','PPARD_3dy6_A.pdb','PPARD_3dy6_B.pdb','PPARD_3gwx_A.pdb','PPARD_3gwx_B.pdb','PPARD_3gz9_A.pdb','PPARD_3peq_A.pdb','PPARD_3peq_B.pdb','PPARD_3tkm_A.pdb','PPARG_1fm9_D.pdb','PPARG_1i7i_A.pdb','PPARG_1i7i_B.pdb','PPARG_1nyx_A.pdb','PPARG_1zeo_A.pdb','PPARG_2ath_A.pdb','PPARG_2ath_B.pdb','PPARG_2f4b_A.pdb','PPARG_2g0g_A.pdb','PPARG_2g0h_A.pdb','PPARG_2g0h_B.pdb','PPARG_2gtk_A.pdb','PPARG_2hfp_A.pdb','PPARG_2i4j_A.pdb','PPARG_2i4z_A.pdb','PPARG_2p4y_A.pdb','PPARG_2p4y_B.pdb','PPARG_2q8s_A.pdb','PPARG_2yfe_A.pdb','PPARG_2yfe_B.pdb','PPARG_3b1m_A.pdb','PPARG_3fej_A.pdb','PPARG_3fur_A.pdb','PPARG_3g9e_A.pdb','PPARG_3ia6_A.pdb','PPARG_3ia6_B.pdb','PPARG_3lmp_A.pdb','PPARG_3osi_A.pdb','PPARG_3osw_A.pdb','PPARG_3r5n_A.pdb','PPARG_3r8i_A.pdb','PPARG_3sz1_B.pdb','PPARG_3t03_A.pdb','PPARG_3t03_B.pdb','PPARG_3ty0_A.pdb','PPARG_3ty0_B.pdb','PPARG_3u9q_A.pdb','PPARG_4a4v_A.pdb','PPARG_4a4v_B.pdb','PPARG_4a4w_A.pdb','PPARG_4a4w_B.pdb','PPARG_4jaz_A.pdb','PPARG_4prg_A.pdb','PPARG_4prg_B.pdb','PPARG_4prg_C.pdb','PPARG_4prg_D.pdb','PPARG_4r06_A.pdb','PPARG_4xta_A.pdb','PPARG_4xta_B.pdb','PPARG_4xuh_A.pdb','PPARG_4xuh_B.pdb','PPARG_4xum_A.pdb']\n",
    "listPDB6 = ['PPARG_4xum_B.pdb','PPARG_4y29_A.pdb','PPARG_5f9b_B.pdb','PPARG_5lsg_A.pdb','PPARG_5two_A.pdb','PPARG_5u5l_A.pdb','PR_1a28_A.pdb','PR_1a28_B.pdb','PR_1sqn_A.pdb','PR_1sqn_B.pdb','PR_1sr7_A.pdb','PR_1sr7_B.pdb','PR_1zuc_A.pdb','PR_1zuc_B.pdb','PR_2w8y_A.pdb','PR_3g8o_A.pdb','PR_3g8o_B.pdb','PR_3hq5_A.pdb','PR_3hq5_B.pdb','PR_3kba_A.pdb','PR_3kba_B.pdb','PR_4oar_A.pdb']\n",
    "listPDB7 = ['PXR_1m13_A.pdb','PXR_2o9i_A.pdb','PXR_2o9i_B.pdb','RXR_3fal_B.pdb','RXR_3nsq_B.pdb','RXR_3ozj_A.pdb','RXR_3ozj_C.pdb','RXR_3pcu_A.pdb']\n",
    "listPDB8 = ['RXR_3r5m_C.pdb','RXR_4k4j_A.pdb','RXR_4k6i_A.pdb','RXR_4m8e_A.pdb','RXR_4m8h_A.pdb','RXR_4poh_A.pdb','RXR_4poj_A.pdb','RXR_4pp3_A.pdb','RXR_4pp5_A.pdb','RXR_4zsh_A.pdb','RXR_5mkj_A.pdb']\n",
    "\n",
    "listPDB_set = [['AR_1e3g_A.pdb','AR_1z95_A.pdb','AR_2am9_A.pdb','AR_2ama_A.pdb','AR_2ax6_A.pdb','AR_2ax9_A.pdb','AR_2hvc_A.pdb','AR_2ihq_A.pdb','AR_2nw4_A.pdb','AR_2oz7_A.pdb','AR_3b5r_A.pdb','AR_3b65_A.pdb','AR_3b66_A.pdb','AR_3b67_A.pdb','AR_3b68_A.pdb','AR_3g0w_A.pdb','AR_3v49_A.pdb','AR_4ql8_A.pdb','AR_5cj6_A.pdb','AR_5t8e_A.pdb','AR_5t8j_A.pdb','AR_5v8q_A.pdb'],['ER_1err_A.pdb','ER_1err_B.pdb','ER_1g50_A.pdb','ER_1g50_B.pdb','ER_1g50_C.pdb','ER_1sj0_A.pdb','ER_1uom_A.pdb','ER_1xp1_A.pdb','ER_1xp6_A.pdb','ER_1xp9_A.pdb','ER_1xpc_A.pdb','ER_1xqc_A.pdb','ER_1xqc_B.pdb','ER_1xqc_C.pdb','ER_1xqc_D.pdb','ER_1zky_A.pdb','ER_1zky_B.pdb','ER_2ayr_A.pdb','ER_2b1v_A.pdb','ER_2b1v_B.pdb','ER_2b1z_A.pdb','ER_2b1z_B.pdb','ER_2fai_A.pdb','ER_2fai_B.pdb','ER_2p15_A.pdb','ER_2p15_B.pdb','ER_2pog_A.pdb','ER_2pog_B.pdb','ER_2q70_A.pdb','ER_2q70_B.pdb','ER_2qa8_A.pdb','ER_2qa8_B.pdb','ER_2qe4_A.pdb','ER_2qe4_B.pdb','ER_2qh6_A.pdb','ER_2qh6_B.pdb','ER_2r6w_A.pdb','ER_2r6w_B.pdb','ER_2r6y_A.pdb','ER_2r6y_B.pdb','ER_4mg5_A.pdb','ER_4mg5_B.pdb','ER_4mg6_A.pdb','ER_4mg6_B.pdb','ER_4mg7_A.pdb','ER_4mg7_B.pdb','ER_4mg8_A.pdb','ER_4mg8_B.pdb','ER_4mg9_A.pdb','ER_4mg9_B.pdb','ER_4mga_A.pdb','ER_4mga_B.pdb','ER_4mgb_A.pdb','ER_4mgb_B.pdb','ER_4mgc_A.pdb','ER_4mgc_B.pdb','ER_4mgd_A.pdb','ER_4mgd_B.pdb','ER_5ak2_A.pdb','ER_5ak2_B.pdb','ER_5fqr_A.pdb','ER_5fqs_A.pdb','ER_5t92_A.pdb','ER_5t92_B.pdb','ER_5t97_A.pdb','ER_5t97_B.pdb'],['ERA_1x7e_A.pdb','ERA_1x7e_B.pdb','ERA_1x7r_A.pdb','ERA_2i0j_A.pdb','ERA_2i0j_B.pdb','ERA_2i0j_C.pdb','ERA_2i0j_D.pdb','ERA_3erd_A.pdb','ERA_3erd_B.pdb','ERA_3ert_A.pdb','ERA_5fqp_A.pdb','ERA_5fqt_A.pdb','ERA_5fqv_A.pdb'],['ERB_1nde_A.pdb','ERB_1qkn_A.pdb','ERB_1u3q_A.pdb','ERB_1u3q_B.pdb','ERB_1u3q_C.pdb','ERB_1u3q_D.pdb','ERB_1u3r_A.pdb','ERB_1u3r_B.pdb','ERB_1u3s_A.pdb','ERB_1u3s_B.pdb','ERB_1u9e_A.pdb','ERB_1u9e_B.pdb','ERB_1x7b_A.pdb','ERB_1x7b_B.pdb','ERB_1x76_A.pdb','ERB_1x76_B.pdb','ERB_1x78_A.pdb','ERB_1x78_B.pdb','ERB_1yy4_A.pdb','ERB_1yy4_B.pdb','ERB_1yye_A.pdb','ERB_1yye_B.pdb','ERB_1zaf_B.pdb','ERB_2giu_A.pdb','ERB_2i0g_A.pdb','ERB_2i0g_B.pdb','ERB_2j7x_A.pdb','ERB_2jj3_A.pdb','ERB_2jj3_B.pdb','ERB_2nv7_A.pdb','ERB_2nv7_B.pdb','ERB_2qtu_A.pdb','ERB_2qtu_B.pdb','ERB_2z4b_A.pdb','ERB_2z4b_B.pdb'],['FXR_3dct_A.pdb','FXR_3okh_A.pdb','FXR_3oki_A.pdb','FXR_3oki_C.pdb','FXR_3olf_A.pdb','FXR_3olf_C.pdb','FXR_3omm_A.pdb','FXR_3omm_C.pdb','FXR_3oof_A.pdb','FXR_3oof_C.pdb','FXR_3ook_A.pdb','FXR_3ook_C.pdb','FXR_4oiv_A.pdb','FXR_4oiv_B.pdb','FXR_5q0i_A.pdb','FXR_5q0j_A.pdb','FXR_5q0j_C.pdb','FXR_5q0l_A.pdb','FXR_5q0l_C.pdb','FXR_5q0m_A.pdb','FXR_5q0n_A.pdb','FXR_5q0n_C.pdb','FXR_5q0o_A.pdb','FXR_5q0o_C.pdb','FXR_5q0p_A.pdb','FXR_5q0p_C.pdb','FXR_5q0q_A.pdb','FXR_5q0q_C.pdb','FXR_5q0r_A.pdb','FXR_5q0s_A.pdb','FXR_5q0s_C.pdb','FXR_5q0t_A.pdb','FXR_5q0u_A.pdb','FXR_5q0u_C.pdb','FXR_5q0v_A.pdb','FXR_5q0v_C.pdb','FXR_5q0w_A.pdb','FXR_5q0x_A.pdb','FXR_5q0y_A.pdb','FXR_5q0y_C.pdb','FXR_5q1a_A.pdb','FXR_5q1b_A.pdb','FXR_5q1b_C.pdb','FXR_5q1c_A.pdb','FXR_5q1c_C.pdb','FXR_5q1d_A.pdb','FXR_5q1d_C.pdb','FXR_5q1f_A.pdb','FXR_5q1f_C.pdb','FXR_5q1g_A.pdb','FXR_5q1i_A.pdb','FXR_5q10_A.pdb','FXR_5q11_A.pdb','FXR_5q12_A.pdb','FXR_5q13_A.pdb','FXR_5q13_C.pdb','FXR_5q14_A.pdb','FXR_5q14_C.pdb','FXR_5q15_A.pdb','FXR_5q15_C.pdb','FXR_5q16_A.pdb','FXR_5q16_C.pdb','FXR_5q17_A.pdb','FXR_5q18_A.pdb','FXR_5q18_C.pdb','FXR_5q19_A.pdb','FXR_5q19_C.pdb'],['GR_1nhz_A.pdb','GR_1p93_A.pdb','GR_1p93_B.pdb','GR_1p93_C.pdb','GR_1p93_D.pdb','GR_3k22_A.pdb','GR_3k22_B.pdb','GR_3k23_A.pdb','GR_3k23_B.pdb','GR_3k23_C.pdb','GR_4csj_A.pdb','GR_4p6w_A.pdb','GR_4p6x_A.pdb','GR_4p6x_C.pdb','GR_4p6x_E.pdb','GR_4p6x_G.pdb','GR_4p6x_I.pdb','GR_4p6x_K.pdb'],['PPARA_1i7g_A.pdb','PPARA_1kkq_A.pdb','PPARA_1kkq_B.pdb','PPARA_1kkq_C.pdb','PPARA_3fei_A.pdb','PPARA_3g8i_A.pdb','PPARA_3kdt_A.pdb','PPARA_3kdt_B.pdb','PPARA_3kdu_A.pdb','PPARA_3kdu_B.pdb'],['PPARD_3dy6_A.pdb','PPARD_3dy6_B.pdb','PPARD_3gwx_A.pdb','PPARD_3gwx_B.pdb','PPARD_3gz9_A.pdb','PPARD_3peq_A.pdb','PPARD_3peq_B.pdb','PPARD_3tkm_A.pdb'],['PPARG_1fm9_D.pdb','PPARG_1i7i_A.pdb','PPARG_1i7i_B.pdb','PPARG_1nyx_A.pdb','PPARG_1zeo_A.pdb','PPARG_2ath_A.pdb','PPARG_2ath_B.pdb','PPARG_2f4b_A.pdb','PPARG_2g0g_A.pdb','PPARG_2g0h_A.pdb','PPARG_2g0h_B.pdb','PPARG_2gtk_A.pdb','PPARG_2hfp_A.pdb','PPARG_2i4j_A.pdb','PPARG_2i4z_A.pdb','PPARG_2p4y_A.pdb','PPARG_2p4y_B.pdb','PPARG_2q8s_A.pdb','PPARG_2yfe_A.pdb','PPARG_2yfe_B.pdb','PPARG_3b1m_A.pdb','PPARG_3fej_A.pdb','PPARG_3fur_A.pdb','PPARG_3g9e_A.pdb','PPARG_3ia6_A.pdb','PPARG_3ia6_B.pdb','PPARG_3lmp_A.pdb','PPARG_3osi_A.pdb','PPARG_3osw_A.pdb','PPARG_3r5n_A.pdb','PPARG_3r8i_A.pdb','PPARG_3sz1_B.pdb','PPARG_3t03_A.pdb','PPARG_3t03_B.pdb','PPARG_3ty0_A.pdb','PPARG_3ty0_B.pdb','PPARG_3u9q_A.pdb','PPARG_4a4v_A.pdb','PPARG_4a4v_B.pdb','PPARG_4a4w_A.pdb','PPARG_4a4w_B.pdb','PPARG_4jaz_A.pdb','PPARG_4prg_A.pdb','PPARG_4prg_B.pdb','PPARG_4prg_C.pdb','PPARG_4prg_D.pdb','PPARG_4r06_A.pdb','PPARG_4xta_A.pdb','PPARG_4xta_B.pdb','PPARG_4xuh_A.pdb','PPARG_4xuh_B.pdb','PPARG_4xum_A.pdb','PPARG_4xum_B.pd','PPARG_4y29_A.pd','PPARG_5f9b_B.pd','PPARG_5lsg_A.pd','PPARG_5two_A.pd','PPARG_5u5l_A.pd'],['PR_1a28_A.pdb','PR_1a28_B.pdb','PR_1sqn_A.pdb','PR_1sqn_B.pdb','PR_1sr7_A.pdb','PR_1sr7_B.pdb','PR_1zuc_A.pdb','PR_1zuc_B.pdb','PR_2w8y_A.pdb','PR_3g8o_A.pdb','PR_3g8o_B.pdb','PR_3hq5_A.pdb','PR_3hq5_B.pdb','PR_3kba_A.pdb','PR_3kba_B.pdb','PR_4oar_A.pdb'],['PXR_1m13_A.pdb','PXR_2o9i_A.pdb','PXR_2o9i_B.pdb'],['RXR_3fal_B.pdb','RXR_3nsq_B.pdb','RXR_3ozj_A.pdb','RXR_3ozj_C.pdb','RXR_3pcu_A.pdb','RXR_3r5m_C.pdb','RXR_4k4j_A.pdb','RXR_4k6i_A.pdb','RXR_4m8e_A.pdb','RXR_4m8h_A.pdb','RXR_4poh_A.pdb','RXR_4poj_A.pdb','RXR_4pp3_A.pdb','RXR_4pp5_A.pdb','RXR_4zsh_A.pdb','RXR_5mkj_A.pdb']]\n",
    "\n",
    "path_full = \"./Data_and_Output/PDBs_FULL_CLEAN/\"\n",
    "path_bp = \"./Data_and_Output/BS_PDBs_PBONLY/\"\n",
    "len(listPDB1),len(listPDB2),len(listPDB3),len(listPDB4),len(listPDB5),len(listPDB6),len(listPDB7),len(listPDB8), len(listPDB)"
   ]
  },
  {
   "cell_type": "code",
   "execution_count": 116,
   "metadata": {},
   "outputs": [
    {
     "data": {
      "text/plain": [
       "332"
      ]
     },
     "execution_count": 116,
     "metadata": {},
     "output_type": "execute_result"
    }
   ],
   "source": [
    "50+73+54+48+66+22+8+11"
   ]
  },
  {
   "cell_type": "code",
   "execution_count": null,
   "metadata": {},
   "outputs": [
    {
     "name": "stdout",
     "output_type": "stream",
     "text": [
      "AR_1e3g_A.pdb\n",
      "AR_1z95_A.pdb\n",
      "AR_2am9_A.pdb\n"
     ]
    }
   ],
   "source": [
    "import time\n",
    "start_time = time.time()\n",
    "\n",
    "all_whales = []\n",
    "\n",
    "for x in listPDB:  #should be listPDB but split for avoid errors...\n",
    "    print(x)\n",
    "    path_pdb_full = path_full + x\n",
    "    path_pdb_bp = path_bp + x\n",
    "    pdb = Chem.rdmolfiles.MolFromPDBFile(path_pdb_full)\n",
    "    idx, lfull = extract_idx_bp(path_pdb_full, path_pdb_bp)\n",
    "    \n",
    "    if pdb.GetNumAtoms()==lfull:\n",
    "        descriptors, lab_all, x_all = do_whales_for_pdb(pdb, idx, 10)\n",
    "        all_whales.append(x_all)\n",
    "        np.savetxt(r'./Data_and_Output/ALLWHALEStemp_EUCLID1.txt', all_whales)\n",
    "    else:\n",
    "        print(\"lenghts don't match: len rdkitpdb: \" + str(pdb.GetNumAtoms()) + \" len df: \" + str(lfull))\n",
    "    \n",
    "print(\"--- %s seconds ---\" % (time.time() - start_time))"
   ]
  },
  {
   "cell_type": "code",
   "execution_count": null,
   "metadata": {},
   "outputs": [],
   "source": []
  }
 ],
 "metadata": {
  "kernelspec": {
   "display_name": "Python 2",
   "language": "python",
   "name": "python2"
  },
  "language_info": {
   "codemirror_mode": {
    "name": "ipython",
    "version": 2
   },
   "file_extension": ".py",
   "mimetype": "text/x-python",
   "name": "python",
   "nbconvert_exporter": "python",
   "pygments_lexer": "ipython2",
   "version": "2.7.17"
  }
 },
 "nbformat": 4,
 "nbformat_minor": 2
}
