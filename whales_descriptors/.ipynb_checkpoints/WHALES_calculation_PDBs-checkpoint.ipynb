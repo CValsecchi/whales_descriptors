{
 "cells": [
  {
   "cell_type": "code",
   "execution_count": 1,
   "metadata": {},
   "outputs": [
    {
     "ename": "ModuleNotFoundError",
     "evalue": "No module named 'whales_descriptors'",
     "output_type": "error",
     "traceback": [
      "\u001b[0;31m---------------------------------------------------------------------------\u001b[0m",
      "\u001b[0;31mModuleNotFoundError\u001b[0m                       Traceback (most recent call last)",
      "\u001b[0;32m<ipython-input-1-a0d12cab9b8d>\u001b[0m in \u001b[0;36m<module>\u001b[0;34m\u001b[0m\n\u001b[0;32m----> 1\u001b[0;31m \u001b[0;32mfrom\u001b[0m \u001b[0mwhales_descriptors\u001b[0m \u001b[0;32mimport\u001b[0m \u001b[0mdo_whales\u001b[0m\u001b[0;34m\u001b[0m\u001b[0;34m\u001b[0m\u001b[0m\n\u001b[0m\u001b[1;32m      2\u001b[0m \u001b[0;32mfrom\u001b[0m \u001b[0mrdkit\u001b[0m \u001b[0;32mimport\u001b[0m \u001b[0mChem\u001b[0m\u001b[0;34m\u001b[0m\u001b[0;34m\u001b[0m\u001b[0m\n\u001b[1;32m      3\u001b[0m \u001b[0;32mimport\u001b[0m \u001b[0mnumpy\u001b[0m \u001b[0;32mas\u001b[0m \u001b[0mnp\u001b[0m\u001b[0;34m\u001b[0m\u001b[0;34m\u001b[0m\u001b[0m\n\u001b[1;32m      4\u001b[0m \u001b[0;32mfrom\u001b[0m \u001b[0mwhales_descriptors\u001b[0m \u001b[0;32mimport\u001b[0m \u001b[0mmol_properties\u001b[0m\u001b[0;34m\u001b[0m\u001b[0;34m\u001b[0m\u001b[0m\n\u001b[1;32m      5\u001b[0m \u001b[0;32mfrom\u001b[0m \u001b[0mrdkit\u001b[0m\u001b[0;34m.\u001b[0m\u001b[0mChem\u001b[0m \u001b[0;32mimport\u001b[0m \u001b[0mAllChem\u001b[0m\u001b[0;34m\u001b[0m\u001b[0;34m\u001b[0m\u001b[0m\n",
      "\u001b[0;31mModuleNotFoundError\u001b[0m: No module named 'whales_descriptors'"
     ]
    }
   ],
   "source": [
    "from whales_descriptors import do_whales\n",
    "from rdkit import Chem\n",
    "import numpy as np\n",
    "from whales_descriptors import mol_properties\n",
    "from rdkit.Chem import AllChem\n",
    "from lcm import domahal\n",
    "from lcm import is_rem\n",
    "from lcm import docov\n",
    "from do_whales import apply_sign\n",
    "from do_whales import extract_lcm\n",
    "import pandas as pd"
   ]
  },
  {
   "cell_type": "code",
   "execution_count": null,
   "metadata": {},
   "outputs": [],
   "source": [
    "from os import listdir\n",
    "from os.path import isfile, join\n",
    "\n",
    "path_full = 'C:/Users/cecil/OneDrive - Universita degli Studi di Milano-Bicocca/NR/PDB/forWHALES/FULLA/'\n",
    "path_bp = 'C:/Users/cecil/OneDrive - Universita degli Studi di Milano-Bicocca/NR/PDB/forWHALES/BPA/'\n",
    "path_bpids = 'C:/Users/cecil/OneDrive - Universita degli Studi di Milano-Bicocca/NR/PDB/forWHALES/BPidsA/'\n",
    "full = [f for f in listdir(path_full) if isfile(join(path_full, f))]\n",
    "bp = [f for f in listdir(path_bp) if isfile(join(path_bp, f))]\n",
    "bpids = [f for f in listdir(path_bpids) if isfile(join(path_bpids, f))]"
   ]
  },
  {
   "cell_type": "code",
   "execution_count": null,
   "metadata": {},
   "outputs": [],
   "source": [
    "pdb = [Chem.rdmolfiles.MolFromPDBFile(join(path_full, x)) for x in full]\n",
    "BP_pdb = [Chem.rdmolfiles.MolFromPDBFile(join(path_bp, x)) for x in bp]\n",
    "\n",
    "l=[i for i,v in enumerate(pdb) if v == None]\n",
    "l2=[i for i,v in enumerate(BP_pdb) if v == None]\n",
    "#pdb = list(filter(None, pdb)) \n",
    "#BP_pdb = list(filter(None, BP_pdb)) #serve id degli eliminati\n",
    "len(pdb), len(BP_pdb)"
   ]
  },
  {
   "cell_type": "code",
   "execution_count": 4,
   "metadata": {},
   "outputs": [
    {
     "data": {
      "text/plain": [
       "([], [])"
      ]
     },
     "execution_count": 4,
     "metadata": {},
     "output_type": "execute_result"
    }
   ],
   "source": [
    "l, l2"
   ]
  },
  {
   "cell_type": "code",
   "execution_count": 5,
   "metadata": {},
   "outputs": [
    {
     "name": "stdout",
     "output_type": "stream",
     "text": [
      "Warning: unable to load font metrics from dir C:\\ProgramData\\Anaconda3\\envs\\my-rdkit-env\\lib\\site-packages\\rdkit\\sping\\PIL\\pilfonts\n"
     ]
    }
   ],
   "source": [
    "#prova a plottare immagine mol per vedere cos'è\n",
    "from rdkit.Chem import Draw\n",
    "Draw.MolToFile(pdb[0],'pdb0.png')\n",
    "Draw.MolToFile(BP_pdb[0],'BPpdb0.png')"
   ]
  },
  {
   "cell_type": "code",
   "execution_count": null,
   "metadata": {},
   "outputs": [
    {
     "name": "stdout",
     "output_type": "stream",
     "text": [
      "1920 2064\n"
     ]
    }
   ],
   "source": [
    "descriptors = pd.DataFrame()\n",
    "count = 0\n",
    "\n",
    "for x in pdb:\n",
    "    mol,err = do_whales.import_mol(x)\n",
    "    coords, w, err = mol_properties.get_coordinates_and_prop(mol, '', True)\n",
    "    ###############\n",
    "    idx_bp = np.genfromtxt((join(path_bpids, bpids[count])), delimiter=',', dtype = int)\n",
    "    idx_bp = idx_bp-1\n",
    "    count = count + 1\n",
    "    ###############\n",
    "    print(idx_bp[-1], len(coords))\n",
    "    coords_red = coords[idx_bp,:]\n",
    "    w_red = w[idx_bp,:]\n",
    "    coords_red.shape, w_red.shape\n",
    "    cov = docov(coords_red, w_red)\n",
    "    n, p = coords_red.shape\n",
    "    dist = np.zeros((n, n))\n",
    "    for i in range(n):\n",
    "        for j in range(n):\n",
    "            d = domahal(i, j, coords_red, cov)\n",
    "            dist[i, j] = d / p\n",
    "    isol, rem, ir_ratio = is_rem(dist, n)\n",
    "    res = np.concatenate((rem, isol, ir_ratio), axis=1)\n",
    "    res = apply_sign(w_red, res, 0)\n",
    "    x_all, lab_all = extract_lcm(res)\n",
    "    descriptors[str(x)] = x_all\n",
    "    \n",
    "descriptors = pd.DataFrame.transpose(descriptors)\n",
    "descriptors.columns = lab_all"
   ]
  },
  {
   "cell_type": "code",
   "execution_count": 98,
   "metadata": {},
   "outputs": [
    {
     "data": {
      "text/plain": [
       "'ERB_2j7x_A.txt'"
      ]
     },
     "execution_count": 98,
     "metadata": {},
     "output_type": "execute_result"
    }
   ],
   "source": [
    "bpids[43]"
   ]
  }
 ],
 "metadata": {
  "kernelspec": {
   "display_name": "Python 3",
   "language": "python",
   "name": "python3"
  },
  "language_info": {
   "codemirror_mode": {
    "name": "ipython",
    "version": 3
   },
   "file_extension": ".py",
   "mimetype": "text/x-python",
   "name": "python",
   "nbconvert_exporter": "python",
   "pygments_lexer": "ipython3",
   "version": "3.7.4"
  }
 },
 "nbformat": 4,
 "nbformat_minor": 2
}
