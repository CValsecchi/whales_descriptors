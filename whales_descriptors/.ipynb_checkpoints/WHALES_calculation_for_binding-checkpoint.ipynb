{
 "cells": [
  {
   "cell_type": "code",
   "execution_count": 65,
   "metadata": {},
   "outputs": [],
   "source": [
    "from whales_descriptors import do_whales\n",
    "from rdkit import Chem\n",
    "import numpy as np\n",
    "from whales_descriptors import mol_properties\n",
    "from rdkit.Chem import AllChem\n",
    "from lcm import domahal, is_rem, docov, lmahal\n",
    "from do_whales import apply_sign\n",
    "from do_whales import extract_lcm\n",
    "import pandas as pd"
   ]
  },
  {
   "cell_type": "code",
   "execution_count": null,
   "metadata": {},
   "outputs": [],
   "source": [
    "suppl = Chem.SDMolSupplier('./Data_and_Output/Task30.sdf')\n",
    "x, labels = do_whales.main(suppl, charge_threshold=0, do_charge=True, property_name='')"
   ]
  },
  {
   "cell_type": "code",
   "execution_count": null,
   "metadata": {},
   "outputs": [],
   "source": [
    "np.savetxt('./Data_and_Output/Task30_whales_results.txt', x, delimiter=' ', newline='\\n') # for descriptors"
   ]
  },
  {
   "cell_type": "code",
   "execution_count": null,
   "metadata": {},
   "outputs": [],
   "source": [
    "#Calcolo whales per recettore nucleare -> covariance matrix su tutti e \n",
    "#poi seleziono solo righe e colonne corrispondenti agli atomi della tasca"
   ]
  },
  {
   "cell_type": "markdown",
   "metadata": {},
   "source": [
    "# Prova con singola molecola da SMILES"
   ]
  },
  {
   "cell_type": "code",
   "execution_count": 3,
   "metadata": {},
   "outputs": [
    {
     "name": "stdout",
     "output_type": "stream",
     "text": [
      "\n",
      "     RDKit          3D\n",
      "\n",
      "  6  6  0  0  0  0  0  0  0  0999 V2000\n",
      "   -1.0653   -1.0351   -0.7994 C   0  0  0  0  0  0  0  0  0  0  0  0\n",
      "   -1.9243   -0.2185    0.1837 C   0  0  0  0  0  0  0  0  0  0  0  0\n",
      "   -0.6114    0.3586    0.7441 C   0  0  0  0  0  0  0  0  0  0  0  0\n",
      "    0.0398    0.0357   -0.6242 C   0  0  0  0  0  0  0  0  0  0  0  0\n",
      "    1.3901   -0.4698   -0.5940 O   0  0  0  0  0  0  0  0  0  0  0  0\n",
      "    2.4033    0.4945   -0.3475 C   0  0  0  0  0  0  0  0  0  0  0  0\n",
      "  1  2  1  0\n",
      "  2  3  1  0\n",
      "  3  4  1  0\n",
      "  4  5  1  0\n",
      "  5  6  1  0\n",
      "  4  1  1  0\n",
      "M  END\n",
      "\n"
     ]
    }
   ],
   "source": [
    "#DA SMILES SERVE OTTIMIZZARE LA STRUTTURA PER AVERE COORDINATE 3D\n",
    "mol = Chem.MolFromSmiles('C1CCC1OC')\n",
    "m3 = Chem.AddHs(mol)\n",
    "#AllChem.EmbedMolecule(m3)\n",
    "mols = AllChem.EmbedMultipleConfs(m3, 100)\n",
    "#res = AllChem.MMFFOptimizeMoleculeConfs(m3, maxIters=1000, mmffVariant='MMFF94', )  \n",
    "res = Chem.rdForceFieldHelpers.MMFFOptimizeMoleculeConfs(m3, maxIters=15000, mmffVariant='MMFF94')  \n",
    "m3 = Chem.RemoveHs(m3)\n",
    "print(Chem.MolToMolBlock(m3, confId= res.index(min(res))))  \n",
    "mol, err = do_whales.import_mol(m3)"
   ]
  },
  {
   "cell_type": "code",
   "execution_count": 4,
   "metadata": {},
   "outputs": [
    {
     "name": "stdout",
     "output_type": "stream",
     "text": [
      "\n",
      "     RDKit          3D\n",
      "\n",
      "  6  6  0  0  0  0  0  0  0  0999 V2000\n",
      "   -0.6591    0.2691    1.0107 C   0  0  0  0  0  0  0  0  0  0  0  0\n",
      "   -1.7491    0.5092   -0.0495 C   0  0  0  0  0  0  0  0  0  0  0  0\n",
      "   -1.2475   -0.7583   -0.7645 C   0  0  0  0  0  0  0  0  0  0  0  0\n",
      "    0.1103   -0.5551   -0.0504 C   0  0  0  0  0  0  0  0  0  0  0  0\n",
      "    1.1086    0.1537   -0.8193 O   0  0  0  0  0  0  0  0  0  0  0  0\n",
      "    2.3654    0.3362   -0.1834 C   0  0  0  0  0  0  0  0  0  0  0  0\n",
      "  1  2  1  0\n",
      "  2  3  1  0\n",
      "  3  4  1  0\n",
      "  4  5  1  0\n",
      "  5  6  1  0\n",
      "  4  1  1  0\n",
      "M  END\n",
      "\n"
     ]
    }
   ],
   "source": [
    "#OPT STABILE\n",
    "#DA SMILES SERVE OTTIMIZZARE LA STRUTTURA PER AVERE COORDINATE 3D\n",
    "mol = Chem.MolFromSmiles('C1CCC1OC')\n",
    "m3 = Chem.AddHs(mol)\n",
    "#AllChem.EmbedMolecule(m3)\n",
    "mols = AllChem.EmbedMolecule(m3, randomSeed=26, clearConfs=True, maxAttempts=5)\n",
    "#mols = AllChem.EmbedMultipleConfs(mols, 100)\n",
    "#res = AllChem.MMFFOptimizeMoleculeConfs(m3, maxIters=1000, mmffVariant='MMFF94', )  \n",
    "res = Chem.rdForceFieldHelpers.MMFFOptimizeMolecule(m3, maxIters=15000, mmffVariant='MMFF94')  \n",
    "m3 = Chem.RemoveHs(m3)\n",
    "print(Chem.MolToMolBlock(m3))\n",
    "mol, err = do_whales.import_mol(m3)"
   ]
  },
  {
   "cell_type": "code",
   "execution_count": 5,
   "metadata": {},
   "outputs": [
    {
     "data": {
      "text/plain": [
       "array([[-0.65906459,  0.26912004,  1.01071307],\n",
       "       [-1.74905932,  0.50915489, -0.04952574],\n",
       "       [-1.24752912, -0.75826951, -0.76449607],\n",
       "       [ 0.11028491, -0.55509216, -0.05037238],\n",
       "       [ 1.10858739,  0.15373624, -0.8193294 ],\n",
       "       [ 2.3653998 ,  0.33616479, -0.18339859]])"
      ]
     },
     "execution_count": 5,
     "metadata": {},
     "output_type": "execute_result"
    }
   ],
   "source": [
    "coords, w, err = mol_properties.get_coordinates_and_prop(mol, '', True)\n",
    "coords"
   ]
  },
  {
   "cell_type": "code",
   "execution_count": 6,
   "metadata": {},
   "outputs": [],
   "source": [
    "cov = docov(coords, w)"
   ]
  },
  {
   "cell_type": "code",
   "execution_count": 7,
   "metadata": {},
   "outputs": [],
   "source": [
    "n, p = coords.shape"
   ]
  },
  {
   "cell_type": "code",
   "execution_count": 8,
   "metadata": {},
   "outputs": [
    {
     "data": {
      "text/plain": [
       "(6, 3)"
      ]
     },
     "execution_count": 8,
     "metadata": {},
     "output_type": "execute_result"
    }
   ],
   "source": [
    "n,p"
   ]
  },
  {
   "cell_type": "code",
   "execution_count": 9,
   "metadata": {},
   "outputs": [
    {
     "data": {
      "text/plain": [
       "array([[0.        , 3.57297336, 4.02494961, 3.56988932, 4.09933878,\n",
       "        3.1096567 ],\n",
       "       [2.73479656, 0.        , 3.19508733, 3.08411496, 3.20886133,\n",
       "        2.95798921],\n",
       "       [3.79208862, 3.93283311, 0.        , 2.63348237, 3.94347563,\n",
       "        2.52839024],\n",
       "       [1.87724551, 2.11885693, 1.46986926, 0.        , 2.22825854,\n",
       "        2.15000125],\n",
       "       [0.44876221, 0.45894238, 0.45820898, 0.46387581, 0.        ,\n",
       "        0.41932178],\n",
       "       [1.79548549, 2.2313659 , 1.54951409, 2.36070568, 2.21163987,\n",
       "        0.        ]])"
      ]
     },
     "execution_count": 9,
     "metadata": {},
     "output_type": "execute_result"
    }
   ],
   "source": [
    "dist = np.zeros((n, n))\n",
    "for i in range(n):\n",
    "    for j in range(n):\n",
    "        d = domahal(i, j, coords, cov)\n",
    "        dist[i, j] = d / p\n",
    "dist"
   ]
  },
  {
   "cell_type": "code",
   "execution_count": 10,
   "metadata": {},
   "outputs": [],
   "source": [
    "def import_prepare_mol(mol, do_geom):\n",
    "\n",
    "    # options for sanitization\n",
    "    san_opt = Chem.SanitizeFlags.SANITIZE_ALL ^ Chem.SanitizeFlags.SANITIZE_KEKULIZE\n",
    "    # initialization\n",
    "    err = 0\n",
    "\n",
    "    # sanitization\n",
    "    if mol is None:\n",
    "        err = 1\n",
    "    else:\n",
    "        # sanitize\n",
    "        sanit_fail = Chem.SanitizeMol(mol, catchErrors=True, sanitizeOps=san_opt)\n",
    "        if sanit_fail:\n",
    "            raise ValueError(sanit_fail)\n",
    "            err = 1\n",
    "\n",
    "        if do_geom is True:\n",
    "            mol, err = opt_geometry(mol)\n",
    "    return mol, err\n",
    "\n",
    "\n",
    "def opt_geometry(mol, max_iter=1000, mmffvariant='MMFF94', seed=26, max_attempts=5): # TODO add in the description - geometry optimization\n",
    "\n",
    "    # 'mmffVariant : “MMFF94” or “MMFF94s”'\n",
    "    # seeded coordinate generation, if = -1, no random seed provided\n",
    "    # removes starting coordinates to ensure reproducibility\n",
    "    # max attempts, to increase if issues are encountered\n",
    "\n",
    "    err = 0\n",
    "    try:\n",
    "        mol = rdmolops.AddHs(mol)\n",
    "        AllChem.EmbedMolecule(mol, randomSeed=seed, clearConfs=True, maxAttempts=max_attempts)\n",
    "        geom = AllChem.MMFFOptimizeMolecule(mol, maxIters=max_iter, mmffVariant=mmffvariant)\n",
    "        if geom < 0:\n",
    "               err = 1\n",
    "    except:\n",
    "        err = 1\n",
    "\n",
    "    return mol, err"
   ]
  },
  {
   "cell_type": "code",
   "execution_count": 11,
   "metadata": {},
   "outputs": [],
   "source": [
    "mol, err = import_prepare_mol(mol, do_geom=False)"
   ]
  },
  {
   "cell_type": "code",
   "execution_count": 12,
   "metadata": {},
   "outputs": [
    {
     "data": {
      "text/plain": [
       "0"
      ]
     },
     "execution_count": 12,
     "metadata": {},
     "output_type": "execute_result"
    }
   ],
   "source": [
    "err"
   ]
  },
  {
   "cell_type": "markdown",
   "metadata": {},
   "source": [
    "# Prova con un PDB"
   ]
  },
  {
   "cell_type": "code",
   "execution_count": 3,
   "metadata": {},
   "outputs": [
    {
     "data": {
      "text/plain": [
       "<rdkit.Chem.rdchem.Mol at 0x11fcb2670>"
      ]
     },
     "execution_count": 3,
     "metadata": {},
     "output_type": "execute_result"
    }
   ],
   "source": [
    "PRpdb = Chem.rdmolfiles.MolFromPDBFile('./Data_and_Output/1a28PR.pdb')\n",
    "PRpdb_bp = Chem.rdmolfiles.MolFromPDBFile('./Data_and_Output/PR_1a28_A.pdb')\n",
    "PRpdb"
   ]
  },
  {
   "cell_type": "code",
   "execution_count": 69,
   "metadata": {},
   "outputs": [],
   "source": [
    "def extract_idx_bp(path1, path2):\n",
    "    pdb_full_df = pd.read_csv(path1, delim_whitespace=True, \n",
    "                                names=('elix','elix_num', 'res_name', 'res', 'chain',\n",
    "                                       'res_seq_num','x','y','z','boh','pup','atom'))\n",
    "\n",
    "    pdb_bp_df = pd.read_csv(path2, delim_whitespace=True, \n",
    "                                names=('elix','elix_num', 'res_name', 'res', 'chain',\n",
    "                                       'res_seq_num','x','y','z','boh','pup','atom'))\n",
    "    #REMOVE LAST ROW = END\n",
    "    pdb_full_df = pdb_full_df[:-1]\n",
    "    pdb_bp_df = pdb_bp_df[:-1]\n",
    "    #select ids of binding pockets (only chain A)\n",
    "    pdb_full_red = pdb_full_df[pdb_full_df['res_seq_num'].isin(pdb_bp_df['res_seq_num']).values]\n",
    "    pdb_full_red = pdb_full_red[pdb_full_red['chain']==pdb_bp_df['chain'].values[0]]\n",
    "    idx_bp=pdb_full_red.index +1\n",
    "    return idx_bp"
   ]
  },
  {
   "cell_type": "code",
   "execution_count": 71,
   "metadata": {},
   "outputs": [
    {
     "data": {
      "text/plain": [
       "796"
      ]
     },
     "execution_count": 71,
     "metadata": {},
     "output_type": "execute_result"
    }
   ],
   "source": [
    "idx_bp = extract_idx_bp('./Data_and_Output/1a28PR.pdb', './Data_and_Output/PR_1a28_A.pdb')\n",
    "len(idx_bp)"
   ]
  },
  {
   "cell_type": "code",
   "execution_count": 90,
   "metadata": {},
   "outputs": [],
   "source": [
    "def do_whales_for_pdb(pdb_full, idx_bp, nstep):\n",
    "    \n",
    "    pdbm3 = Chem.RemoveHs(pdb_full)\n",
    "    mol, err = do_whales.import_mol(pdbm3)  #TODO CHECK IF ERR == 1\n",
    "    coords, w, err = mol_properties.get_coordinates_and_prop(mol, '', True)\n",
    "    coords_red = coords[idx_bp,:]\n",
    "    w_red = w[idx_bp,:]\n",
    "    res = lmahal(coords_red, w_red)\n",
    "    res = apply_sign(w_red, res, 0)\n",
    "    x_all, lab_all = extract_lcm(res, step = nstep)\n",
    "    descriptors = pd.DataFrame()\n",
    "    descriptors[str(1)] = x_all\n",
    "    descriptors = pd.DataFrame.transpose(descriptors)\n",
    "    descriptors.columns = lab_all\n",
    "    \n",
    "    return descriptors, x_all"
   ]
  },
  {
   "cell_type": "code",
   "execution_count": 72,
   "metadata": {},
   "outputs": [],
   "source": [
    "#PRpdbm3 = Chem.RemoveHs(PRpdb)\n",
    "##AllChem.MMFFOptimizeMolecule(PRpdbm3)\n",
    "#a = Chem.MolToMolBlock(PRpdbm3)\n",
    "#mol, err = do_whales.import_mol(PRpdbm3)\n",
    "#mol,err\n",
    "#AllChem.EmbedMolecule(PRpdbm3)\n",
    "#coords, w, err = mol_properties.get_coordinates_and_prop(mol, '', True)\n",
    "#coords,w  ############################################QUI SELEZIONA TASCA BINDING############################\n",
    "#len(coords), len(coords[0]), len(w), len(w[0])\n",
    "#coords_red = coords[idx_bp,:]\n",
    "#w_red = w[idx_bp,:]\n",
    "#coords_red.shape, w_red.shape\n",
    "#lmahal########################################\n",
    "#cov = docov(coords_red, w_red)\n",
    "#n, p = coords_red.shape\n",
    "#dist = np.zeros((n, n))\n",
    "#for i in range(n):\n",
    "#    for j in range(n):\n",
    "#        d = domahal(i, j, coords_red, cov)\n",
    "#        dist[i, j] = d / p\n",
    "#dist\n",
    "#isol, rem, ir_ratio = is_rem(dist, n)\n",
    "#res = np.concatenate((rem, isol, ir_ratio), axis=1)\n",
    "#res\n",
    "#equivalent as#################################\n",
    "#res = lmahal(coords_red, w_red)\n",
    "#res\n",
    "#res = apply_sign(w_red, res, 0)\n",
    "#x_all, lab_all = extract_lcm(res)\n",
    "#descriptors = pd.DataFrame()\n",
    "#descriptors[str(1)] = x_all\n",
    "#descriptors = pd.DataFrame.transpose(descriptors)\n",
    "#descriptors.columns = lab_all\n",
    "#descriptors"
   ]
  },
  {
   "cell_type": "code",
   "execution_count": 86,
   "metadata": {},
   "outputs": [
    {
     "data": {
      "text/html": [
       "<div>\n",
       "<style scoped>\n",
       "    .dataframe tbody tr th:only-of-type {\n",
       "        vertical-align: middle;\n",
       "    }\n",
       "\n",
       "    .dataframe tbody tr th {\n",
       "        vertical-align: top;\n",
       "    }\n",
       "\n",
       "    .dataframe thead th {\n",
       "        text-align: right;\n",
       "    }\n",
       "</style>\n",
       "<table border=\"1\" class=\"dataframe\">\n",
       "  <thead>\n",
       "    <tr style=\"text-align: right;\">\n",
       "      <th></th>\n",
       "      <th>R_0</th>\n",
       "      <th>R_0</th>\n",
       "      <th>R_0</th>\n",
       "      <th>R_0</th>\n",
       "      <th>R_0</th>\n",
       "      <th>R_0</th>\n",
       "      <th>R_0</th>\n",
       "      <th>R_0</th>\n",
       "      <th>R_0</th>\n",
       "      <th>R_0</th>\n",
       "      <th>...</th>\n",
       "      <th>IR_9</th>\n",
       "      <th>IR_9</th>\n",
       "      <th>IR_9</th>\n",
       "      <th>IR_9</th>\n",
       "      <th>IR_9</th>\n",
       "      <th>IR_9</th>\n",
       "      <th>IR_9</th>\n",
       "      <th>IR_9</th>\n",
       "      <th>IR_9</th>\n",
       "      <th>IR_10</th>\n",
       "    </tr>\n",
       "  </thead>\n",
       "  <tbody>\n",
       "    <tr>\n",
       "      <th>1</th>\n",
       "      <td>-2.116</td>\n",
       "      <td>-1.886</td>\n",
       "      <td>-1.726</td>\n",
       "      <td>-1.636</td>\n",
       "      <td>-1.604</td>\n",
       "      <td>-1.543</td>\n",
       "      <td>-1.52</td>\n",
       "      <td>-1.478</td>\n",
       "      <td>-1.408</td>\n",
       "      <td>-1.377</td>\n",
       "      <td>...</td>\n",
       "      <td>0.01</td>\n",
       "      <td>0.011</td>\n",
       "      <td>0.011</td>\n",
       "      <td>0.012</td>\n",
       "      <td>0.013</td>\n",
       "      <td>0.014</td>\n",
       "      <td>0.016</td>\n",
       "      <td>0.018</td>\n",
       "      <td>0.022</td>\n",
       "      <td>0.037</td>\n",
       "    </tr>\n",
       "  </tbody>\n",
       "</table>\n",
       "<p>1 rows × 303 columns</p>\n",
       "</div>"
      ],
      "text/plain": [
       "     R_0    R_0    R_0    R_0    R_0    R_0   R_0    R_0    R_0    R_0  ...  \\\n",
       "1 -2.116 -1.886 -1.726 -1.636 -1.604 -1.543 -1.52 -1.478 -1.408 -1.377  ...   \n",
       "\n",
       "   IR_9   IR_9   IR_9   IR_9   IR_9   IR_9   IR_9   IR_9   IR_9  IR_10  \n",
       "1  0.01  0.011  0.011  0.012  0.013  0.014  0.016  0.018  0.022  0.037  \n",
       "\n",
       "[1 rows x 303 columns]"
      ]
     },
     "execution_count": 86,
     "metadata": {},
     "output_type": "execute_result"
    }
   ],
   "source": [
    "descriptors = do_whales_for_pdb(PRpdb, idx_bp, 1)  #PERCENTILES\n",
    "descriptors"
   ]
  },
  {
   "cell_type": "code",
   "execution_count": 84,
   "metadata": {},
   "outputs": [
    {
     "data": {
      "text/html": [
       "<div>\n",
       "<style scoped>\n",
       "    .dataframe tbody tr th:only-of-type {\n",
       "        vertical-align: middle;\n",
       "    }\n",
       "\n",
       "    .dataframe tbody tr th {\n",
       "        vertical-align: top;\n",
       "    }\n",
       "\n",
       "    .dataframe thead th {\n",
       "        text-align: right;\n",
       "    }\n",
       "</style>\n",
       "<table border=\"1\" class=\"dataframe\">\n",
       "  <thead>\n",
       "    <tr style=\"text-align: right;\">\n",
       "      <th></th>\n",
       "      <th>R_0</th>\n",
       "      <th>R_1</th>\n",
       "      <th>R_2</th>\n",
       "      <th>R_3</th>\n",
       "      <th>R_4</th>\n",
       "      <th>R_5</th>\n",
       "      <th>R_6</th>\n",
       "      <th>R_7</th>\n",
       "      <th>R_8</th>\n",
       "      <th>R_9</th>\n",
       "      <th>...</th>\n",
       "      <th>IR_1</th>\n",
       "      <th>IR_2</th>\n",
       "      <th>IR_3</th>\n",
       "      <th>IR_4</th>\n",
       "      <th>IR_5</th>\n",
       "      <th>IR_6</th>\n",
       "      <th>IR_7</th>\n",
       "      <th>IR_8</th>\n",
       "      <th>IR_9</th>\n",
       "      <th>IR_10</th>\n",
       "    </tr>\n",
       "  </thead>\n",
       "  <tbody>\n",
       "    <tr>\n",
       "      <th>1</th>\n",
       "      <td>-2.116</td>\n",
       "      <td>-1.36</td>\n",
       "      <td>-1.124</td>\n",
       "      <td>-0.968</td>\n",
       "      <td>-0.797</td>\n",
       "      <td>-0.636</td>\n",
       "      <td>-0.451</td>\n",
       "      <td>0.647</td>\n",
       "      <td>0.9</td>\n",
       "      <td>1.14</td>\n",
       "      <td>...</td>\n",
       "      <td>-0.017</td>\n",
       "      <td>-0.011</td>\n",
       "      <td>-0.009</td>\n",
       "      <td>-0.007</td>\n",
       "      <td>-0.005</td>\n",
       "      <td>-0.003</td>\n",
       "      <td>0.004</td>\n",
       "      <td>0.007</td>\n",
       "      <td>0.01</td>\n",
       "      <td>0.037</td>\n",
       "    </tr>\n",
       "  </tbody>\n",
       "</table>\n",
       "<p>1 rows × 33 columns</p>\n",
       "</div>"
      ],
      "text/plain": [
       "     R_0   R_1    R_2    R_3    R_4    R_5    R_6    R_7  R_8   R_9  ...  \\\n",
       "1 -2.116 -1.36 -1.124 -0.968 -0.797 -0.636 -0.451  0.647  0.9  1.14  ...   \n",
       "\n",
       "    IR_1   IR_2   IR_3   IR_4   IR_5   IR_6   IR_7   IR_8  IR_9  IR_10  \n",
       "1 -0.017 -0.011 -0.009 -0.007 -0.005 -0.003  0.004  0.007  0.01  0.037  \n",
       "\n",
       "[1 rows x 33 columns]"
      ]
     },
     "execution_count": 84,
     "metadata": {},
     "output_type": "execute_result"
    }
   ],
   "source": [
    "descriptors = do_whales_for_pdb(PRpdb, idx_bp, 10)  #DECILES\n",
    "descriptors"
   ]
  },
  {
   "cell_type": "code",
   "execution_count": 58,
   "metadata": {},
   "outputs": [],
   "source": [
    "np.savetxt(r'./Data_and_Output/PR_whales_1a28.txt', descriptors.values)"
   ]
  },
  {
   "cell_type": "markdown",
   "metadata": {},
   "source": [
    "# BATCH MODE"
   ]
  },
  {
   "cell_type": "code",
   "execution_count": 95,
   "metadata": {},
   "outputs": [],
   "source": [
    "listPDB = ['AR_1e3g_A.pdb','AR_1z95_A.pdb','AR_2am9_A.pdb','AR_2ama_A.pdb','AR_2ax6_A.pdb','AR_2ax9_A.pdb','AR_2hvc_A.pdb','AR_2ihq_A.pdb','AR_2nw4_A.pdb','AR_2oz7_A.pdb','AR_3b5r_A.pdb','AR_3b65_A.pdb','AR_3b66_A.pdb','AR_3b67_A.pdb','AR_3b68_A.pdb','AR_3g0w_A.pdb','AR_3v49_A.pdb','AR_4ql8_A.pdb','AR_5cj6_A.pdb','AR_5t8e_A.pdb','AR_5t8j_A.pdb','AR_5v8q_A.pdb','ER_1err_A.pdb','ER_1err_B.pdb','ER_1g50_A.pdb','ER_1g50_B.pdb','ER_1g50_C.pdb','ER_1sj0_A.pdb','ER_1uom_A.pdb','ER_1xp1_A.pdb','ER_1xp6_A.pdb','ER_1xp9_A.pdb','ER_1xpc_A.pdb','ER_1xqc_A.pdb','ER_1xqc_B.pdb','ER_1xqc_C.pdb','ER_1xqc_D.pdb','ER_1zky_A.pdb','ER_1zky_B.pdb','ER_2ayr_A.pdb','ER_2b1v_A.pdb','ER_2b1v_B.pdb','ER_2b1z_A.pdb','ER_2b1z_B.pdb','ER_2fai_A.pdb','ER_2fai_B.pdb','ER_2p15_A.pdb','ER_2p15_B.pdb','ER_2pog_A.pdb','ER_2pog_B.pdb','ER_2q70_A.pdb','ER_2q70_B.pdb','ER_2qa8_A.pdb','ER_2qa8_B.pdb','ER_2qe4_A.pdb','ER_2qe4_B.pdb','ER_2qh6_A.pdb','ER_2qh6_B.pdb','ER_2r6w_A.pdb','ER_2r6w_B.pdb','ER_2r6y_A.pdb','ER_2r6y_B.pdb','ER_4mg5_A.pdb','ER_4mg5_B.pdb','ER_4mg6_A.pdb','ER_4mg6_B.pdb','ER_4mg7_A.pdb','ER_4mg7_B.pdb','ER_4mg8_A.pdb','ER_4mg8_B.pdb','ER_4mg9_A.pdb','ER_4mg9_B.pdb','ER_4mga_A.pdb','ER_4mga_B.pdb','ER_4mgb_A.pdb','ER_4mgb_B.pdb','ER_4mgc_A.pdb','ER_4mgc_B.pdb','ER_4mgd_A.pdb','ER_4mgd_B.pdb','ER_5ak2_A.pdb','ER_5ak2_B.pdb','ER_5fqr_A.pdb','ER_5fqs_A.pdb','ER_5t92_A.pdb','ER_5t92_B.pdb','ER_5t97_A.pdb','ER_5t97_B.pdb','ERA_1x7e_A.pdb','ERA_1x7e_B.pdb','ERA_1x7r_A.pdb','ERA_2i0j_A.pdb','ERA_2i0j_B.pdb','ERA_2i0j_C.pdb','ERA_2i0j_D.pdb','ERA_3erd_A.pdb','ERA_3erd_B.pdb','ERA_3ert_A.pdb','ERA_5fqp_A.pdb','ERA_5fqt_A.pdb','ERA_5fqv_A.pdb','ERB_1nde_A.pdb','ERB_1qkn_A.pdb','ERB_1u3q_A.pdb','ERB_1u3q_B.pdb','ERB_1u3q_C.pdb','ERB_1u3q_D.pdb','ERB_1u3r_A.pdb','ERB_1u3r_B.pdb','ERB_1u3s_A.pdb','ERB_1u3s_B.pdb','ERB_1u9e_A.pdb','ERB_1u9e_B.pdb','ERB_1x7b_A.pdb','ERB_1x7b_B.pdb','ERB_1x76_A.pdb','ERB_1x76_B.pdb','ERB_1x78_A.pdb','ERB_1x78_B.pdb','ERB_1yy4_A.pdb','ERB_1yy4_B.pdb','ERB_1yye_A.pdb','ERB_1yye_B.pdb','ERB_1zaf_A.pdb','ERB_1zaf_B.pdb','ERB_2giu_A.pdb','ERB_2i0g_A.pdb','ERB_2i0g_B.pdb','ERB_2j7x_A.pdb','ERB_2jj3_A.pdb','ERB_2jj3_B.pdb','ERB_2nv7_A.pdb','ERB_2nv7_B.pdb','ERB_2qtu_A.pdb','ERB_2qtu_B.pdb','ERB_2z4b_A.pdb','ERB_2z4b_B.pdb','FXR_3dct_A.pdb','FXR_3okh_A.pdb','FXR_3oki_A.pdb','FXR_3oki_C.pdb','FXR_3olf_A.pdb','FXR_3olf_C.pdb','FXR_3omm_A.pdb','FXR_3omm_C.pdb','FXR_3oof_A.pdb','FXR_3oof_C.pdb','FXR_3ook_A.pdb','FXR_3ook_C.pdb','FXR_4oiv_A.pdb','FXR_4oiv_B.pdb','FXR_5q0i_A.pdb','FXR_5q0j_A.pdb','FXR_5q0j_C.pdb','FXR_5q0l_A.pdb','FXR_5q0l_C.pdb','FXR_5q0m_A.pdb','FXR_5q0n_A.pdb','FXR_5q0n_C.pdb','FXR_5q0o_A.pdb','FXR_5q0o_C.pdb','FXR_5q0p_A.pdb','FXR_5q0p_C.pdb','FXR_5q0q_A.pdb','FXR_5q0q_C.pdb','FXR_5q0r_A.pdb','FXR_5q0s_A.pdb','FXR_5q0s_C.pdb','FXR_5q0t_A.pdb','FXR_5q0u_A.pdb','FXR_5q0u_C.pdb','FXR_5q0v_A.pdb','FXR_5q0v_C.pdb','FXR_5q0w_A.pdb','FXR_5q0x_A.pdb','FXR_5q0y_A.pdb','FXR_5q0y_C.pdb','FXR_5q1a_A.pdb','FXR_5q10_A.pdb','FXR_5q11_A.pdb','FXR_5q12_A.pdb','FXR_5q13_A.pdb','FXR_5q13_C.pdb','FXR_5q14_A.pdb','FXR_5q14_C.pdb','FXR_5q15_A.pdb','FXR_5q15_C.pdb','FXR_5q16_A.pdb','FXR_5q16_C.pdb','FXR_5q17_A.pdb','FXR_5q18_A.pdb','FXR_5q18_C.pdb','FXR_5q19_A.pdb']\n",
    "listPDB_set = [['AR_1e3g_A.pdb','AR_1z95_A.pdb','AR_2am9_A.pdb','AR_2ama_A.pdb','AR_2ax6_A.pdb','AR_2ax9_A.pdb','AR_2hvc_A.pdb','AR_2ihq_A.pdb','AR_2nw4_A.pdb','AR_2oz7_A.pdb','AR_3b5r_A.pdb','AR_3b65_A.pdb','AR_3b66_A.pdb','AR_3b67_A.pdb','AR_3b68_A.pdb','AR_3g0w_A.pdb','AR_3v49_A.pdb','AR_4ql8_A.pdb','AR_5cj6_A.pdb','AR_5t8e_A.pdb','AR_5t8j_A.pdb','AR_5v8q_A.pdb'],['ER_1err_A.pdb','ER_1err_B.pdb','ER_1g50_A.pdb','ER_1g50_B.pdb','ER_1g50_C.pdb','ER_1sj0_A.pdb','ER_1uom_A.pdb','ER_1xp1_A.pdb','ER_1xp6_A.pdb','ER_1xp9_A.pdb','ER_1xpc_A.pdb','ER_1xqc_A.pdb','ER_1xqc_B.pdb','ER_1xqc_C.pdb','ER_1xqc_D.pdb','ER_1zky_A.pdb','ER_1zky_B.pdb','ER_2ayr_A.pdb','ER_2b1v_A.pdb','ER_2b1v_B.pdb','ER_2b1z_A.pdb','ER_2b1z_B.pdb','ER_2fai_A.pdb','ER_2fai_B.pdb','ER_2p15_A.pdb','ER_2p15_B.pdb','ER_2pog_A.pdb','ER_2pog_B.pdb','ER_2q70_A.pdb','ER_2q70_B.pdb','ER_2qa8_A.pdb','ER_2qa8_B.pdb','ER_2qe4_A.pdb','ER_2qe4_B.pdb','ER_2qh6_A.pdb','ER_2qh6_B.pdb','ER_2r6w_A.pdb','ER_2r6w_B.pdb','ER_2r6y_A.pdb','ER_2r6y_B.pdb','ER_4mg5_A.pdb','ER_4mg5_B.pdb','ER_4mg6_A.pdb','ER_4mg6_B.pdb','ER_4mg7_A.pdb','ER_4mg7_B.pdb','ER_4mg8_A.pdb','ER_4mg8_B.pdb','ER_4mg9_A.pdb','ER_4mg9_B.pdb','ER_4mga_A.pdb','ER_4mga_B.pdb','ER_4mgb_A.pdb','ER_4mgb_B.pdb','ER_4mgc_A.pdb','ER_4mgc_B.pdb','ER_4mgd_A.pdb','ER_4mgd_B.pdb','ER_5ak2_A.pdb','ER_5ak2_B.pdb','ER_5fqr_A.pdb','ER_5fqs_A.pdb','ER_5t92_A.pdb','ER_5t92_B.pdb','ER_5t97_A.pdb','ER_5t97_B.pdb'],['ERA_1x7e_A.pdb','ERA_1x7e_B.pdb','ERA_1x7r_A.pdb','ERA_2i0j_A.pdb','ERA_2i0j_B.pdb','ERA_2i0j_C.pdb','ERA_2i0j_D.pdb','ERA_3erd_A.pdb','ERA_3erd_B.pdb','ERA_3ert_A.pdb','ERA_5fqp_A.pdb','ERA_5fqt_A.pdb','ERA_5fqv_A.pdb'],['ERB_1nde_A.pdb','ERB_1qkn_A.pdb','ERB_1u3q_A.pdb','ERB_1u3q_B.pdb','ERB_1u3q_C.pdb','ERB_1u3q_D.pdb','ERB_1u3r_A.pdb','ERB_1u3r_B.pdb','ERB_1u3s_A.pdb','ERB_1u3s_B.pdb','ERB_1u9e_A.pdb','ERB_1u9e_B.pdb','ERB_1x7b_A.pdb','ERB_1x7b_B.pdb','ERB_1x76_A.pdb','ERB_1x76_B.pdb','ERB_1x78_A.pdb','ERB_1x78_B.pdb','ERB_1yy4_A.pdb','ERB_1yy4_B.pdb','ERB_1yye_A.pdb','ERB_1yye_B.pdb','ERB_1zaf_A.pdb','ERB_1zaf_B.pdb','ERB_2giu_A.pdb','ERB_2i0g_A.pdb','ERB_2i0g_B.pdb','ERB_2j7x_A.pdb','ERB_2jj3_A.pdb','ERB_2jj3_B.pdb','ERB_2nv7_A.pdb','ERB_2nv7_B.pdb','ERB_2qtu_A.pdb','ERB_2qtu_B.pdb','ERB_2z4b_A.pdb','ERB_2z4b_B.pdb'],['FXR_3dct_A.pdb','FXR_3okh_A.pdb','FXR_3oki_A.pdb','FXR_3oki_C.pdb','FXR_3olf_A.pdb','FXR_3olf_C.pdb','FXR_3omm_A.pdb','FXR_3omm_C.pdb','FXR_3oof_A.pdb','FXR_3oof_C.pdb','FXR_3ook_A.pdb','FXR_3ook_C.pdb','FXR_4oiv_A.pdb','FXR_4oiv_B.pdb','FXR_5q0i_A.pdb','FXR_5q0j_A.pdb','FXR_5q0j_C.pdb','FXR_5q0l_A.pdb','FXR_5q0l_C.pdb','FXR_5q0m_A.pdb','FXR_5q0n_A.pdb','FXR_5q0n_C.pdb','FXR_5q0o_A.pdb','FXR_5q0o_C.pdb','FXR_5q0p_A.pdb','FXR_5q0p_C.pdb','FXR_5q0q_A.pdb','FXR_5q0q_C.pdb','FXR_5q0r_A.pdb','FXR_5q0s_A.pdb','FXR_5q0s_C.pdb','FXR_5q0t_A.pdb','FXR_5q0u_A.pdb','FXR_5q0u_C.pdb','FXR_5q0v_A.pdb','FXR_5q0v_C.pdb','FXR_5q0w_A.pdb','FXR_5q0x_A.pdb','FXR_5q0y_A.pdb','FXR_5q0y_C.pdb','FXR_5q1a_A.pdb','FXR_5q10_A.pdb','FXR_5q11_A.pdb','FXR_5q12_A.pdb','FXR_5q13_A.pdb','FXR_5q13_C.pdb','FXR_5q14_A.pdb','FXR_5q14_C.pdb','FXR_5q15_A.pdb','FXR_5q15_C.pdb','FXR_5q16_A.pdb','FXR_5q16_C.pdb','FXR_5q17_A.pdb','FXR_5q18_A.pdb','FXR_5q18_C.pdb','FXR_5q19_A.pdb']]\n",
    "\n",
    "path_full = \"./Data_and_Output/PDBs_FULL_CLEAN_red/\"\n",
    "path_bp = \"./Data_and_Output/BS_PDBs_PBONLY_red/\""
   ]
  },
  {
   "cell_type": "code",
   "execution_count": 96,
   "metadata": {},
   "outputs": [
    {
     "data": {
      "text/plain": [
       "['AR_1e3g_A.pdb',\n",
       " 'ER_1err_A.pdb',\n",
       " 'ERA_1x7e_A.pdb',\n",
       " 'ERB_1nde_A.pdb',\n",
       " 'FXR_3dct_A.pdb']"
      ]
     },
     "execution_count": 96,
     "metadata": {},
     "output_type": "execute_result"
    }
   ],
   "source": [
    "one_per_nr = []\n",
    "for l in listPDB_set:\n",
    "    one_per_nr.append(l[0])\n",
    "    \n",
    "one_per_nr"
   ]
  },
  {
   "cell_type": "code",
   "execution_count": null,
   "metadata": {},
   "outputs": [],
   "source": [
    "import time\n",
    "start_time = time.time()\n",
    "\n",
    "all_whales = []\n",
    "\n",
    "for x in one_per_nr:  #should be listPDB\n",
    "    path_pdb_full = path_full + x\n",
    "    path_pdb_bp = path_bp + x\n",
    "    pdb = Chem.rdmolfiles.MolFromPDBFile(path_pdb_full)\n",
    "    \n",
    "    idx = extract_idx_bp(path_pdb_full, path_pdb_bp)\n",
    "    descriptors, x_all = do_whales_for_pdb(pdb, idx, 10)\n",
    "    all_whales.append(x_all)\n",
    "    \n",
    "print(\"--- %s seconds ---\" % (time.time() - start_time))"
   ]
  },
  {
   "cell_type": "code",
   "execution_count": 93,
   "metadata": {},
   "outputs": [
    {
     "data": {
      "text/plain": [
       "[array([-2.219, -1.366, -1.123, -0.941, -0.795, -0.628, -0.424,  0.677,\n",
       "         0.91 ,  1.186,  1.972, -0.021, -0.011, -0.009, -0.008, -0.007,\n",
       "        -0.006, -0.003,  0.004,  0.006,  0.008,  0.013, -0.057, -0.017,\n",
       "        -0.011, -0.009, -0.007, -0.005, -0.003,  0.004,  0.007,  0.01 ,\n",
       "         0.035]),\n",
       " array([-2.445e+00, -1.410e+00, -1.164e+00, -9.660e-01, -8.020e-01,\n",
       "        -6.000e-01, -3.720e-01,  6.270e-01,  8.990e-01,  1.215e+00,\n",
       "         2.249e+00, -1.800e-02, -9.000e-03, -7.000e-03, -6.000e-03,\n",
       "        -5.000e-03, -4.000e-03, -2.000e-03,  3.000e-03,  5.000e-03,\n",
       "         6.000e-03,  1.200e-02, -4.800e-02, -1.200e-02, -8.000e-03,\n",
       "        -7.000e-03, -5.000e-03, -4.000e-03, -2.000e-03,  3.000e-03,\n",
       "         5.000e-03,  8.000e-03,  2.900e-02]),\n",
       " array([-2.715e+00, -1.416e+00, -1.140e+00, -9.180e-01, -7.600e-01,\n",
       "        -5.790e-01, -3.940e-01,  6.940e-01,  9.170e-01,  1.240e+00,\n",
       "         2.165e+00, -4.800e-02, -1.000e-02, -9.000e-03, -8.000e-03,\n",
       "        -7.000e-03, -5.000e-03, -3.000e-03,  4.000e-03,  6.000e-03,\n",
       "         8.000e-03,  1.300e-02, -7.800e-02, -1.700e-02, -1.100e-02,\n",
       "        -8.000e-03, -6.000e-03, -4.000e-03, -2.000e-03,  4.000e-03,\n",
       "         6.000e-03,  1.000e-02,  3.400e-02]),\n",
       " array([-2.231e+00, -1.378e+00, -1.129e+00, -9.390e-01, -7.850e-01,\n",
       "        -6.140e-01, -4.170e-01,  6.700e-01,  9.010e-01,  1.171e+00,\n",
       "         1.869e+00, -2.100e-02, -1.100e-02, -9.000e-03, -8.000e-03,\n",
       "        -7.000e-03, -6.000e-03, -3.000e-03,  4.000e-03,  6.000e-03,\n",
       "         8.000e-03,  1.300e-02, -6.000e-02, -1.700e-02, -1.100e-02,\n",
       "        -9.000e-03, -7.000e-03, -5.000e-03, -2.000e-03,  4.000e-03,\n",
       "         7.000e-03,  1.000e-02,  3.800e-02])]"
      ]
     },
     "execution_count": 93,
     "metadata": {},
     "output_type": "execute_result"
    }
   ],
   "source": [
    "all_whales"
   ]
  },
  {
   "cell_type": "code",
   "execution_count": null,
   "metadata": {},
   "outputs": [],
   "source": [
    "from scipy.spatial import distance\n",
    "\n",
    "def do_hausforfflike_sim(dist_type, list_set, X):\n",
    "    d = distance.pdist(X, metric=dist_type)  # e.g. 'euclidean', ‘braycurtis’, ‘canberra’, ‘chebyshev’, ‘cityblock’, ‘correlation’, ‘cosine’, ‘dice’, ‘euclidean’, ‘hamming’, ‘jaccard’, ‘jensenshannon’, ‘kulsinski’, ‘mahalanobis’, ‘matching’, ‘minkowski’, ‘rogerstanimoto’, ‘russellrao’, ‘seuclidean’, ‘sokalmichener’, ‘sokalsneath’, ‘sqeuclidean’, ‘yule’\n",
    "    s = 1 - d\n",
    "    len_set=[]\n",
    "    for i in list_set:\n",
    "        len_set.append(len(i))\n",
    "    \n",
    "    HS_all = []\n",
    "    cntx = 0\n",
    "    for j in len_set:\n",
    "        cnty = 0\n",
    "        for k in len_set:\n",
    "            X_red = X[cntx:j+cntx+1,cnty:k+cnty+1]\n",
    "            Num = sum(max(X_red, axis =0)) + sum(max(X_red, axis =1))\n",
    "            HS = Num/(j+k)\n",
    "            HS_all.append(HS)\n",
    "            cnty += k+1\n",
    "            \n",
    "        cntx += j+1\n",
    "    HS_all = np.reshape(HS_all, (len(list_set), len(list_set)))\n",
    "    \n",
    "    return HS_all"
   ]
  }
 ],
 "metadata": {
  "kernelspec": {
   "display_name": "Python 2",
   "language": "python",
   "name": "python2"
  },
  "language_info": {
   "codemirror_mode": {
    "name": "ipython",
    "version": 2
   },
   "file_extension": ".py",
   "mimetype": "text/x-python",
   "name": "python",
   "nbconvert_exporter": "python",
   "pygments_lexer": "ipython2",
   "version": "2.7.17"
  }
 },
 "nbformat": 4,
 "nbformat_minor": 2
}
